{
 "cells": [
  {
   "cell_type": "markdown",
   "metadata": {},
   "source": [
    "## Partie 1\n",
    "Implémenter la méthode des treillis pour le calcul des prix d’options (pour les différents types d’options). \n",
    "On testera la méthode sur différentes instances en faisant varier les paramètres (N : le nombre de périodes, r : taux de crédit, d et u). \n",
    "On essayera de considérer aussi des instances assez larges. "
   ]
  },
  {
   "cell_type": "code",
   "execution_count": 39,
   "metadata": {},
   "outputs": [],
   "source": [
    "import matplotlib.pyplot as plt\n",
    "import numpy as np"
   ]
  },
  {
   "cell_type": "code",
   "execution_count": 40,
   "metadata": {},
   "outputs": [],
   "source": [
    "def assetTreeValue(n, S, u, d):  \n",
    "    asset = np.zeros((n+1,n+1))\n",
    "    asset[0,0] = S\n",
    "    for i in range(1,n+1):\n",
    "        asset[i,0] = asset[i-1,0]*u\n",
    "        for j in range(1,i+1):\n",
    "            asset[i,j] = asset[i-1,j-1]*d\n",
    "    return asset    "
   ]
  },
  {
   "cell_type": "code",
   "execution_count": 41,
   "metadata": {},
   "outputs": [],
   "source": [
    "def calculationOptionPrice(n, assetValue, K, r, u, d, PutCall, optiontype):\n",
    "    value = np.zeros((n+1,n+1))\n",
    "    proba = (1+r-d)/(u-d)\n",
    "    \n",
    "    for j in range(n+1):\n",
    "        if PutCall==\"C\": # Call\n",
    "            payoff = max(0, (assetValue[n,j]-K))\n",
    "            value[n,j] = payoff\n",
    "        elif PutCall==\"P\": #Put\n",
    "            print(j)\n",
    "            payoff = max(0, (K-assetValue[n,j]))\n",
    "            value[n,j] = payoff\n",
    "    \n",
    "    if optiontype == \"USA\":\n",
    "         for i in range(n-1,-1,-1):\n",
    "            for j in range(i+1):\n",
    "                if PutCall==\"P\":\n",
    "                    value[i,j] = max(0, K-assetValue[i,j], (1/1+r)*(proba*value[i+1,j]+(1-proba)*value[i+1,j+1]))\n",
    "                elif PutCall==\"C\":\n",
    "                    value[i,j] = max(0, assetValue[i,j]-K, (1/1+r)*(proba*value[i+1,j]+(1-proba)*value[i+1,j+1]))\n",
    "    \n",
    "    if optiontype == \"EUR\":\n",
    "         for i in range(n-1,-1,-1):\n",
    "            for j in range(i+1):\n",
    "                value[i,j] = (1/1+r)*(proba*value[i+1,j]+(1-proba)*value[i+1,j+1])\n",
    "                    \n",
    "    return value"
   ]
  },
  {
   "cell_type": "code",
   "execution_count": 44,
   "metadata": {},
   "outputs": [
    {
     "name": "stdout",
     "output_type": "stream",
     "text": [
      "[[100.   0.   0.]\n",
      " [110.  90.   0.]\n",
      " [121.  99.  81.]] \n",
      "\n",
      "[[21.9121875  0.         0.       ]\n",
      " [25.725      6.3        0.       ]\n",
      " [30.         8.         0.       ]] \n",
      "\n",
      "Option value :  21.91218750000002\n"
     ]
    }
   ],
   "source": [
    "asset = assetTreeValue(2, 100, 1.1, 0.9)\n",
    "optionvalue = calculationOptionPrice(2, asset, 91, 0.05, 1.1, 0.9, \"C\", \"EUR\")\n",
    "\n",
    "print(asset, '\\n')\n",
    "print(optionvalue, '\\n')\n",
    "print('Option value : ', optionvalue[0][0])"
   ]
  },
  {
   "cell_type": "markdown",
   "metadata": {},
   "source": [
    "## Partie 2\n",
    "Ecrire le modèle qui permet de minimiser la CVaR pour une probabilité donnée  (On donne le modèle général avec un nombre d’actifs n, un nombre de scénarios S, un vecteur rendement  et un rendement minimum R. "
   ]
  },
  {
   "cell_type": "markdown",
   "metadata": {},
   "source": [
    "<img src=\"pics\\Partie 2.png\" width=\"480\" />"
   ]
  },
  {
   "cell_type": "code",
   "execution_count": 8,
   "metadata": {},
   "outputs": [],
   "source": [
    "from scipy.optimize import minimize"
   ]
  },
  {
   "cell_type": "code",
   "execution_count": 9,
   "metadata": {},
   "outputs": [],
   "source": [
    "# X[0] Gamma, X[1...N] Actifs risqués \n",
    "def func_minimise_ES(X):\n",
    "    sum = 0\n",
    "    loose_function = 0\n",
    "    for i in range(S):\n",
    "        for j in range (1, X.size):\n",
    "            loose_function = loose_function + max(((b[j]-Y[i])*X[j]-X[0]),0)\n",
    "    return X[0] + (1/(1-alpha)*S)*loose_function"
   ]
  },
  {
   "cell_type": "code",
   "execution_count": 10,
   "metadata": {},
   "outputs": [],
   "source": [
    "# S fois cette contrainte\n",
    "def constraint1(X,s):\n",
    "    sum = 0\n",
    "    for j in range (1,X.size):\n",
    "        sum = sum + (b[j]-Y[s])*X[j]\n",
    "        \n",
    "    return max((sum-X[0]),0) - (sum-X[0])"
   ]
  },
  {
   "cell_type": "code",
   "execution_count": 11,
   "metadata": {},
   "outputs": [],
   "source": [
    "# S fois cette contrainte\n",
    "def constraint2(X,s):\n",
    "    sum = 0\n",
    "    for j in range (1,X.size):\n",
    "        sum = sum + (b[j]-Y[s])*X[j]\n",
    "    \n",
    "    return max((sum-X[0]),0)-0"
   ]
  },
  {
   "cell_type": "code",
   "execution_count": 12,
   "metadata": {},
   "outputs": [],
   "source": [
    "def constraint3(X):\n",
    "    sum = 1\n",
    "    for i in range(1,X.size):\n",
    "        sum = sum - X[i]\n",
    "    \n",
    "    return sum"
   ]
  },
  {
   "cell_type": "code",
   "execution_count": 13,
   "metadata": {},
   "outputs": [],
   "source": [
    "def minimise_ES_constraint4(X):\n",
    "    sum = 0\n",
    "    for i in range(1,X.size):\n",
    "        sum += X[i]*E[i]\n",
    "        \n",
    "    return sum - R"
   ]
  },
  {
   "cell_type": "markdown",
   "metadata": {},
   "source": [
    "#### Fonctions pour la compréhension logique : "
   ]
  },
  {
   "cell_type": "code",
   "execution_count": 14,
   "metadata": {},
   "outputs": [],
   "source": [
    "def rendement(X):\n",
    "    sum = 0\n",
    "    for i in range(1,X.size):\n",
    "        sum += X[i]*E[i]\n",
    "        \n",
    "    return sum"
   ]
  },
  {
   "cell_type": "code",
   "execution_count": 15,
   "metadata": {},
   "outputs": [],
   "source": [
    "def loose_function(X):\n",
    "    loose_function = 0\n",
    "    for i in range(S):\n",
    "        for j in range (1, X.size):\n",
    "            loose_function = loose_function + max(((b[j]-Y[i])*X[j]-X[0]),0)\n",
    "    return loose_function"
   ]
  },
  {
   "cell_type": "markdown",
   "metadata": {},
   "source": [
    "#### Générateur de scénarios :"
   ]
  },
  {
   "cell_type": "code",
   "execution_count": 16,
   "metadata": {},
   "outputs": [],
   "source": [
    "import random as rd"
   ]
  },
  {
   "cell_type": "code",
   "execution_count": 17,
   "metadata": {},
   "outputs": [
    {
     "name": "stdout",
     "output_type": "stream",
     "text": [
      "[-0.049225342276198084, -0.002087780685745456, -0.0006247645524452924, 0.05021041805547016, 0.010321103848131145]\n"
     ]
    }
   ],
   "source": [
    "def generateY(S):\n",
    "    Y = []\n",
    "    for i in range(S):\n",
    "        Y.append(rd.normalvariate(0,3)/100) \n",
    "    return Y\n",
    "S= 5\n",
    "print(generateY(5))"
   ]
  },
  {
   "cell_type": "markdown",
   "metadata": {},
   "source": [
    "### Exécution"
   ]
  },
  {
   "cell_type": "markdown",
   "metadata": {},
   "source": [
    "#### General Informations : "
   ]
  },
  {
   "cell_type": "code",
   "execution_count": 18,
   "metadata": {},
   "outputs": [],
   "source": [
    "alpha = 0.99 # Probabilité\n",
    "R = 0.10 # Rentabilité"
   ]
  },
  {
   "cell_type": "markdown",
   "metadata": {},
   "source": [
    "#### Assets Informations :"
   ]
  },
  {
   "cell_type": "code",
   "execution_count": 23,
   "metadata": {},
   "outputs": [
    {
     "name": "stdout",
     "output_type": "stream",
     "text": [
      "Réparition des actifs (X[0] => Gamma) X:  [1.  0.2 0.2 0.2 0.2 0.2]\n",
      "Prix des obligations b :  [ 0 10 10 10 10 10]\n",
      "Espérance de rendement E :  [0.      0.1073  0.00415 0.0627  0.1045  0.1235 ]\n"
     ]
    }
   ],
   "source": [
    "Nb_Assets = 5\n",
    "\n",
    "X = np.array([1, 0.20, 0.20, 0.20, 0.20, 0.20]) # Réparitition des actifs,  Attention : X[0] == gamma\n",
    "b = np.array([0, 10, 10, 10, 10, 10]) # Prix des obligations, b[0]=0 pour la fonction objective\n",
    "E = np.array([0, 0.1073, 0.00415, 0.0627, 0.1045, 0.1235]) # Espérence de rendement des actifs\n",
    "\n",
    "print('Réparition des actifs (X[0] => Gamma) X: ', X)\n",
    "print('Prix des obligations b : ', b)\n",
    "print('Espérance de rendement E : ', E)"
   ]
  },
  {
   "cell_type": "markdown",
   "metadata": {},
   "source": [
    "#### Scénarios Informations :"
   ]
  },
  {
   "cell_type": "code",
   "execution_count": 24,
   "metadata": {},
   "outputs": [
    {
     "name": "stdout",
     "output_type": "stream",
     "text": [
      "Vecteur de probabilité Y :  [-0.0458266  -0.00834546 -0.04438068 -0.00360416 -0.0051126 ]\n"
     ]
    }
   ],
   "source": [
    "S = 5 # Nombre de scénarios\n",
    "Y = np.array(generateY(5)) # vecteur de probabilités\n",
    "print('Vecteur de probabilité Y : ', Y)"
   ]
  },
  {
   "cell_type": "markdown",
   "metadata": {},
   "source": [
    "#### Lancement :"
   ]
  },
  {
   "cell_type": "code",
   "execution_count": 25,
   "metadata": {},
   "outputs": [
    {
     "name": "stdout",
     "output_type": "stream",
     "text": [
      "Function initale (CVaR):  12554.634752039246\n",
      "Function de perte initial :  25.107269504078516\n",
      "Gamma initial :  1.0\n",
      "1 - Répartition initiale :  5.551115123125783e-17\n",
      "Rendement initial :  0.08043\n",
      "Rendement initial - Rendement espéré :  -0.019570000000000004 \n",
      "\n",
      "Optimization terminated successfully    (Exit mode 0)\n",
      "            Current function value: 10.003604157896604\n",
      "            Iterations: 3\n",
      "            Function evaluations: 21\n",
      "            Gradient evaluations: 3\n",
      "     fun: 10.003604157896604\n",
      "     jac: array([1., 0., 0., 0., 0., 0.])\n",
      " message: 'Optimization terminated successfully'\n",
      "    nfev: 21\n",
      "     nit: 3\n",
      "    njev: 3\n",
      "  status: 0\n",
      " success: True\n",
      "       x: array([10.00360416,  0.25709049,  0.03907155,  0.16282352,  0.25117237,\n",
      "        0.28984207]) \n",
      "\n",
      "Function finale (CVaR) :  10.003604157896604\n",
      "Function de perte finale :  0\n",
      "Gamma final :  10.003604157896604\n",
      "1 - Répartition obtenue :  -2.220446049250313e-16\n",
      "Rendement final :  0.09999999999999999\n",
      "Rendement final - Rendement espéré :   -1.3877787807814457e-17\n"
     ]
    }
   ],
   "source": [
    "print('Function initale (CVaR): ', func_minimise_ES(X))\n",
    "print('Function de perte initial : ', loose_function(X))\n",
    "print('Gamma initial : ', X[0])\n",
    "print('1 - Répartition initiale : ', constraint3(X))\n",
    "print('Rendement initial : ', rendement(X))\n",
    "print('Rendement initial - Rendement espéré : ', minimise_ES_constraint4(X), '\\n')\n",
    "\n",
    "\n",
    "\n",
    "# constraints\n",
    "Const1 = [] # S*contrainte \n",
    "Const2 = [] # S*contrainte\n",
    "for i in range(S):\n",
    "    Const1.append({'type':'ineq','args' : (i,) , 'fun': constraint1})\n",
    "    Const2.append({'type':'ineq','args' : (i,)  , 'fun': constraint2}) \n",
    "\n",
    "ineq_cons = []\n",
    "ineq_cons = (Const1 + Const2 + [{'type':'eq','fun': constraint3}, {'type':'ineq','fun': minimise_ES_constraint4}])\n",
    "\n",
    "\n",
    "# bonds \n",
    "bond = (0, 1.0)\n",
    "ineq_bond = ((None, None),)\n",
    "for i in range(Nb_Assets):\n",
    "    ineq_bond = ineq_bond + (bond,) # x1 >= 0, x2 >= 0, ...\n",
    "\n",
    "\n",
    "sol = minimize(func_minimise_ES,\n",
    "               x0=X, \n",
    "               method='SLSQP',  # Il faut trouver la bonne méthode\n",
    "               bounds=ineq_bond, \n",
    "               options={'disp': True},\n",
    "               constraints=ineq_cons)\n",
    "print(sol, '\\n')\n",
    "Res = sol.x\n",
    "\n",
    "print('Function finale (CVaR) : ', func_minimise_ES(Res))\n",
    "print('Function de perte finale : ', loose_function(Res))\n",
    "print('Gamma final : ', Res[0])\n",
    "print('1 - Répartition obtenue : ', constraint3(Res))\n",
    "print('Rendement final : ', rendement(Res))\n",
    "print('Rendement final - Rendement espéré :  ', minimise_ES_constraint4(Res))\n"
   ]
  },
  {
   "cell_type": "markdown",
   "metadata": {},
   "source": [
    "## Partie 3\n",
    "\n",
    "Considérons le modèle de Markowitz maximisant le rendement du portefeuille et assurant une CVaR  ne dépassant pas un certain seuil.  \n",
    "Ecrire le modèle correspondant et le résoudre pour certaines données aléatoires. "
   ]
  },
  {
   "cell_type": "markdown",
   "metadata": {},
   "source": [
    "<img src=\"pics\\Partie 3.png\" width=\"494\" />"
   ]
  },
  {
   "cell_type": "code",
   "execution_count": 26,
   "metadata": {},
   "outputs": [],
   "source": [
    "from scipy.optimize import linprog"
   ]
  },
  {
   "cell_type": "code",
   "execution_count": 27,
   "metadata": {},
   "outputs": [],
   "source": [
    "# Définition des nouvelles varibales \n",
    "\n",
    "J = np.array([0, 0.50, 0.25, 0.25]) # Ensemble d'indices sur les différentes valeurs disponibles\n",
    "U = np.array([0, 1, 3, 4 ]) # Risque maximal toléré pour une valeur Alpha j"
   ]
  },
  {
   "cell_type": "code",
   "execution_count": 28,
   "metadata": {},
   "outputs": [],
   "source": [
    "# X[0] Gamma, X[1...N] Actifs risqués \n",
    "def func_maximise_yield(X):\n",
    "    rendement = 0\n",
    "    for i in range(1,X.size):\n",
    "        rendement += X[i]*E[i]\n",
    "    return rendement"
   ]
  },
  {
   "cell_type": "code",
   "execution_count": 29,
   "metadata": {},
   "outputs": [],
   "source": [
    "# S fois cette contrainte\n",
    "def maximise_yield_constraint1(X,alpha_j):\n",
    "    sum = 0\n",
    "    for i in range(S):\n",
    "        loose_function = 0\n",
    "        for j in range (1, X.size):\n",
    "            loose_function = loose_function + max(((b[j]-Y[i])*X[j]-X[0]),0)\n",
    "            \n",
    "    return U[alpha_j] - (X[0] + (1/(1-alpha)*S)*loose_function) "
   ]
  },
  {
   "cell_type": "code",
   "execution_count": 47,
   "metadata": {},
   "outputs": [
    {
     "name": "stdout",
     "output_type": "stream",
     "text": [
      "Iteration limit reached    (Exit mode 9)\n",
      "            Current function value: 0.0042663511016504865\n",
      "            Iterations: 100\n",
      "            Function evaluations: 1280\n",
      "            Gradient evaluations: 99\n",
      "     fun: 0.0042663511016504865\n",
      "     jac: array([0.     , 0.1073 , 0.00415, 0.0627 , 0.1045 , 0.1235 ])\n",
      " message: 'Iteration limit reached'\n",
      "    nfev: 1280\n",
      "     nit: 100\n",
      "    njev: 99\n",
      "  status: 9\n",
      " success: False\n",
      "       x: array([9.98525120e+00, 2.50350475e-06, 9.98014869e-01, 1.98275174e-03,\n",
      "       1.66979327e-08, 3.96356454e-09]) \n",
      "\n"
     ]
    }
   ],
   "source": [
    "# constraints\n",
    "Max_Const1 = [] # S*contrainte \n",
    "Max_Const2 = [] # S*contrainte \n",
    "Max_Const3 = [] # S*contrainte\n",
    "\n",
    "for i in range(1, J.size):\n",
    "    Max_Const1.append({'type':'ineq','args' : (i,) , 'fun': maximise_yield_constraint1})\n",
    "        \n",
    "for i in range(S):\n",
    "    Max_Const2.append({'type':'ineq','args' : (i,)  , 'fun': constraint2})\n",
    "    Max_Const3.append({'type':'ineq','args' : (i,)  , 'fun': constraint2})\n",
    "\n",
    "Max_ineq_cons = []\n",
    "Max_ineq_cons = (Max_Const1 + Max_Const2 + Max_Const3 +[{'type':'eq','fun': constraint3}])\n",
    "             \n",
    "\n",
    "\n",
    "# bonds \n",
    "bond = (0, 1.0)\n",
    "Max_ineq_bond = ((None, None),)\n",
    "for i in range(Nb_Assets):\n",
    "    Max_ineq_bond = Max_ineq_bond + (bond,) # x1 >= 0, x2 >= 0, ...\n",
    "\n",
    "\n",
    "sol = minimize(func_maximise_yield,\n",
    "               x0=X, \n",
    "               method='SLSQP',  # Il faut trouver la bonne méthode\n",
    "               bounds=Max_ineq_bond, \n",
    "               options={'disp': True},\n",
    "               constraints=Max_ineq_cons)\n",
    "print(sol, '\\n')"
   ]
  },
  {
   "cell_type": "code",
   "execution_count": null,
   "metadata": {},
   "outputs": [],
   "source": []
  }
 ],
 "metadata": {
  "kernelspec": {
   "display_name": "Python 3",
   "language": "python",
   "name": "python3"
  },
  "language_info": {
   "codemirror_mode": {
    "name": "ipython",
    "version": 3
   },
   "file_extension": ".py",
   "mimetype": "text/x-python",
   "name": "python",
   "nbconvert_exporter": "python",
   "pygments_lexer": "ipython3",
   "version": "3.7.1"
  }
 },
 "nbformat": 4,
 "nbformat_minor": 2
}
