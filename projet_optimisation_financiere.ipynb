{
 "cells": [
  {
   "cell_type": "markdown",
   "metadata": {},
   "source": [
    "## Partie 1\n",
    "Implémenter la méthode des treillis pour le calcul des prix d’options (pour les différents types d’options). \n",
    "On testera la méthode sur différentes instances en faisant varier les paramètres (N : le nombre de périodes, r : taux de crédit, d et u). \n",
    "On essayera de considérer aussi des instances assez larges. "
   ]
  },
  {
   "cell_type": "code",
   "execution_count": 110,
   "metadata": {},
   "outputs": [],
   "source": [
    "import matplotlib.pyplot as plt\n",
    "import numpy as np"
   ]
  },
  {
   "cell_type": "code",
   "execution_count": 111,
   "metadata": {},
   "outputs": [],
   "source": [
    "def assetTree(n, S, u, d):  \n",
    "    asset = np.zeros((n+1,n+1))\n",
    "    asset[0,0] = S\n",
    "    for i in range(1,n+1):\n",
    "        asset[i,0] = asset[i-1,0]*u\n",
    "        for j in range(1,i+1):\n",
    "            asset[i,j] = asset[i-1,j-1]*d\n",
    "    return asset    "
   ]
  },
  {
   "cell_type": "code",
   "execution_count": 143,
   "metadata": {},
   "outputs": [],
   "source": [
    "def calculationOptionPrice(n, assetValue, K, r, u, d, PutCall, optiontype):\n",
    "    value = np.zeros((n+1,n+1))\n",
    "    proba = (1+r-d)/(u-d)\n",
    "    print(proba)\n",
    "    \n",
    "    for j in range(n+1):\n",
    "        if PutCall==\"C\": # Call\n",
    "            payoff = max(0, (assetValue[n,j]-K))\n",
    "            value[n,j] = payoff\n",
    "        elif PutCall==\"P\": #Put\n",
    "            print(j)\n",
    "            payoff = max(0, (K-assetValue[n,j]))\n",
    "            value[n,j] = payoff\n",
    "    \n",
    "    if optiontype == \"USA\":\n",
    "         for i in range(n-1,-1,-1):\n",
    "            for j in range(i+1):\n",
    "                if PutCall==\"P\":\n",
    "                    value[i,j] = max(0, K-assetValue[i,j], (1/1+r)*(proba*value[i+1,j]+(1-proba)*value[i+1,j+1]))\n",
    "                elif PutCall==\"C\":\n",
    "                    value[i,j] = max(0, assetValue[i,j]-K, (1/1+r)*(proba*value[i+1,j]+(1-proba)*value[i+1,j+1]))\n",
    "    \n",
    "    if optiontype == \"EUR\":\n",
    "         for i in range(n-1,-1,-1):\n",
    "            for j in range(i+1):\n",
    "                value[i,j] = (1/1+r)*(proba*value[i+1,j]+(1-proba)*value[i+1,j+1])\n",
    "                    \n",
    "    return value"
   ]
  },
  {
   "cell_type": "code",
   "execution_count": 144,
   "metadata": {},
   "outputs": [
    {
     "name": "stdout",
     "output_type": "stream",
     "text": [
      "[[100.   0.   0.]\n",
      " [110.  90.   0.]\n",
      " [121.  99.  81.]]\n",
      " \n",
      "0.7499999999999999\n",
      "[[21.9121875  0.         0.       ]\n",
      " [25.725      6.3        0.       ]\n",
      " [30.         8.         0.       ]]\n"
     ]
    }
   ],
   "source": [
    "asset = assetTree(2, 100, 1.1, 0.9)\n",
    "print(asset)\n",
    "print(' ')\n",
    "print(calculationOptionPrice(2, asset, 91, 0.05, 1.1, 0.9, \"C\", \"EUR\"))"
   ]
  },
  {
   "cell_type": "code",
   "execution_count": 145,
   "metadata": {},
   "outputs": [],
   "source": [
    "def drawAssetTree(asset):\n",
    "    plt.xlim(0,1) \n",
    "    plt.figtext(0.10,0.5,asset[0,0])\n",
    "    plt.figtext(0.6,0.5+0.20,asset[1,0])\n",
    "    plt.figtext(0.6,0.5-0.20,asset[1,1])\n",
    "    \n",
    "    plt.annotate('',xy=(0.6,0.5+0.25), xytext=(0.1,0.5), arrowprops=dict(facecolor='g',shrink=0.01))\n",
    "    plt.annotate('',xy=(0.6,0.5-0.25), xytext=(0.1,0.5), arrowprops=dict(facecolor='g',shrink=0.01))\n",
    "    \n",
    "    plt.figtext(0.9,0.5+0.35,asset[2,0])\n",
    "    plt.figtext(0.9,0.5,asset[2,1])\n",
    "    plt.figtext(0.9,0.5-0.35,asset[2,2])\n",
    "    \n",
    "    plt.annotate('',xy=(0.9,0.5+0.40), xytext=(0.7,0.5+0.25), arrowprops=dict(facecolor='g',shrink=0.01))\n",
    "    plt.annotate('',xy=(0.9,0.5), xytext=(0.7,0.5+0.25), arrowprops=dict(facecolor='g',shrink=0.01))\n",
    "    \n",
    "    plt.annotate('',xy=(0.9,0.5), xytext=(0.7,0.5-0.25), arrowprops=dict(facecolor='g',shrink=0.01))\n",
    "    plt.annotate('',xy=(0.9,0.5-0.4), xytext=(0.7,0.5-0.25), arrowprops=dict(facecolor='g',shrink=0.01))\n",
    "    \n",
    "    plt.axis('off')\n",
    "    plt.show()"
   ]
  },
  {
   "cell_type": "code",
   "execution_count": 146,
   "metadata": {},
   "outputs": [
    {
     "data": {
      "image/png": "[encoded data removed]",
      "text/plain": [
       "<Figure size 432x288 with 1 Axes>"
      ]
     },
     "metadata": {
      "needs_background": "light"
     },
     "output_type": "display_data"
    }
   ],
   "source": [
    "asset = assetTree(2, 100, 1.1, 0.9)\n",
    "drawAssetTree(asset)"
   ]
  },
  {
   "cell_type": "code",
   "execution_count": null,
   "metadata": {},
   "outputs": [],
   "source": []
  }
 ],
 "metadata": {
  "kernelspec": {
   "display_name": "Python 3",
   "language": "python",
   "name": "python3"
  },
  "language_info": {
   "codemirror_mode": {
    "name": "ipython",
    "version": 3
   },
   "file_extension": ".py",
   "mimetype": "text/x-python",
   "name": "python",
   "nbconvert_exporter": "python",
   "pygments_lexer": "ipython3",
   "version": "3.7.1"
  }
 },
 "nbformat": 4,
 "nbformat_minor": 2
}
