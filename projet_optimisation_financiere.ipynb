{
 "cells": [
  {
   "cell_type": "markdown",
   "metadata": {},
   "source": [
    "## Partie 1\n",
    "Implémenter la méthode des treillis pour le calcul des prix d’options (pour les différents types d’options). \n",
    "On testera la méthode sur différentes instances en faisant varier les paramètres (N : le nombre de périodes, r : taux de crédit, d et u). \n",
    "On essayera de considérer aussi des instances assez larges. "
   ]
  },
  {
   "cell_type": "code",
   "execution_count": 1,
   "metadata": {},
   "outputs": [],
   "source": [
    "import matplotlib.pyplot as plt\n",
    "from matplotlib import cm\n",
    "import numpy as np\n",
    "import time\n",
    "import psutil"
   ]
  },
  {
   "cell_type": "code",
   "execution_count": 2,
   "metadata": {},
   "outputs": [],
   "source": [
    "def assetTreeValue(n, S, u, d):  \n",
    "    asset = np.zeros((n+1,n+1))\n",
    "    asset[0,0] = S\n",
    "    for i in range(1,n+1):\n",
    "        asset[i,0] = asset[i-1,0]*u\n",
    "        for j in range(1,i+1):\n",
    "            asset[i,j] = asset[i-1,j-1]*d\n",
    "    return asset    "
   ]
  },
  {
   "cell_type": "code",
   "execution_count": 3,
   "metadata": {},
   "outputs": [],
   "source": [
    "def calculationOptionPrice(n, assetValue, K, r, u, d, PutCall, optiontype):\n",
    "    value = np.zeros((n+1,n+1))\n",
    "    proba = (1+r-d)/(u-d)\n",
    "    \n",
    "    for j in range(n+1):\n",
    "        if PutCall==\"C\": # Call\n",
    "            payoff = max(0, (assetValue[n,j]-K))\n",
    "            value[n,j] = payoff\n",
    "        elif PutCall==\"P\": #Put\n",
    "            payoff = max(0, (K-assetValue[n,j]))\n",
    "            value[n,j] = payoff\n",
    "    \n",
    "    if optiontype == \"USA\":\n",
    "         for i in range(n-1,-1,-1):\n",
    "            for j in range(i+1):\n",
    "                if PutCall==\"P\":\n",
    "                    value[i,j] = max(0, K-assetValue[i,j], (1/1+r)*(proba*value[i+1,j]+(1-proba)*value[i+1,j+1]))\n",
    "                elif PutCall==\"C\":\n",
    "                    value[i,j] = max(0, assetValue[i,j]-K, (1/1+r)*(proba*value[i+1,j]+(1-proba)*value[i+1,j+1]))\n",
    "    \n",
    "    if optiontype == \"EUR\":\n",
    "         for i in range(n-1,-1,-1):\n",
    "            for j in range(i+1):\n",
    "                value[i,j] = (1/1+r)*(proba*value[i+1,j]+(1-proba)*value[i+1,j+1])\n",
    "                    \n",
    "    return value"
   ]
  },
  {
   "cell_type": "code",
   "execution_count": 4,
   "metadata": {},
   "outputs": [
    {
     "name": "stdout",
     "output_type": "stream",
     "text": [
      "Option value :  2.360466633862231\n"
     ]
    }
   ],
   "source": [
    "asset = assetTreeValue(4, 100, 1.0425, 0.9592)\n",
    "optionvalue = calculationOptionPrice(4, asset, 98, 0.00077, 1.0425, 0.9592, \"P\", \"USA\")\n",
    "print('Option value : ', optionvalue[0][0])"
   ]
  },
  {
   "cell_type": "markdown",
   "metadata": {},
   "source": [
    "#### Temps d'exécution en fonction de N (nombre de période)"
   ]
  },
  {
   "cell_type": "code",
   "execution_count": 5,
   "metadata": {},
   "outputs": [],
   "source": [
    "n = 10\n",
    "execution_time_Eur = []\n",
    "execution_time_USD = []\n",
    "series = []\n",
    "\n",
    "    \n",
    "for i in range(3, n):\n",
    "    series.append(i)\n",
    "\n",
    "    # Calcul Option USA\n",
    "    tps_USD1 = time.time()\n",
    "    asset_USD = assetTreeValue(i, 100, 1.1, 0.9)\n",
    "    optionvalue_USD = calculationOptionPrice(i, asset_USD, 91, 0.05, 1.1, 0.9, \"C\", \"USA\")\n",
    "    tps_USD2 = time.time()\n",
    "    execution_time_USD.append((tps_USD2-tps_USD1)*1000)\n",
    "\n",
    "    # Calcul Option EUR\n",
    "\n",
    "    tps_EUR1 = time.time()\n",
    "    asset_EUR = assetTreeValue(i, 100, 1.1, 0.9)\n",
    "    optionvalue_EUR = calculationOptionPrice(i, asset_EUR, 91, 0.05, 1.1, 0.9, \"C\", \"EUR\")\n",
    "    tps_EUR2 = time.time()\n",
    "    execution_time_Eur.append((tps_EUR2-tps_EUR1)*1000)\n",
    "    "
   ]
  },
  {
   "cell_type": "code",
   "execution_count": 6,
   "metadata": {},
   "outputs": [
    {
     "data": {
      "image/png": "[encoded data removed]",
      "text/plain": [
       "<Figure size 540x360 with 1 Axes>"
      ]
     },
     "metadata": {
      "needs_background": "light"
     },
     "output_type": "display_data"
    }
   ],
   "source": [
    "plt.figure(figsize=(7.5,5)) #Changer taille de la figure\n",
    "plt.plot(series, execution_time_USD, label='Option américaine') # Plot l'USD \n",
    "plt.plot(series, execution_time_Eur, label='Option européenne')  # Plot l'EUR\n",
    "\n",
    "\n",
    "plt.xlabel(\"N (périodes)\")\n",
    "plt.ylabel(\"Execution time (ms)\")\n",
    "plt.legend(framealpha=1, frameon=True);\n",
    "plt.show()"
   ]
  },
  {
   "cell_type": "markdown",
   "metadata": {},
   "source": [
    "#### CPU en fonction de N (nombre de période)"
   ]
  },
  {
   "cell_type": "code",
   "execution_count": 7,
   "metadata": {},
   "outputs": [
    {
     "name": "stdout",
     "output_type": "stream",
     "text": [
      "[34.0, 28.2, 30.0, 38.2, 30.0, 40.8, 29.4]\n",
      "[32.2, 37.0, 27.5, 21.8, 35.7, 33.8, 35.3]\n"
     ]
    }
   ],
   "source": [
    "n = 10\n",
    "series = []\n",
    "CPU_USA = []\n",
    "CPU_EUR = []\n",
    "\n",
    "\n",
    "def CalculateCPU_USA(i):\n",
    "    asset_USD = assetTreeValue(i, 100, 1.1, 0.9)\n",
    "    optionvalue_USD = calculationOptionPrice(i, asset_USD, 91, 0.05, 1.1, 0.9, \"C\", \"USA\")\n",
    "    CPU_USA.append(psutil.cpu_percent())\n",
    "    \n",
    "def CalculateCPU_EUR(i):\n",
    "    asset_EUR = assetTreeValue(i, 100, 1.1, 0.9)\n",
    "    optionvalue_EUR = calculationOptionPrice(i, asset_EUR, 91, 0.05, 1.1, 0.9, \"C\", \"EUR\")\n",
    "    CPU_EUR.append(psutil.cpu_percent())\n",
    "    \n",
    "for i in range(3,n):\n",
    "    series.append(i)\n",
    "    time.sleep(2)\n",
    "    CalculateCPU_USA(i)\n",
    "    time.sleep(2)\n",
    "    CalculateCPU_EUR(i)\n",
    "\n",
    "print(CPU_USA)\n",
    "print(CPU_EUR)"
   ]
  },
  {
   "cell_type": "code",
   "execution_count": 8,
   "metadata": {},
   "outputs": [
    {
     "data": {
      "image/png": "[encoded data removed]",
      "text/plain": [
       "<Figure size 540x360 with 1 Axes>"
      ]
     },
     "metadata": {
      "needs_background": "light"
     },
     "output_type": "display_data"
    }
   ],
   "source": [
    "plt.figure(figsize=(7.5,5)) #Changer taille de la figure\n",
    "plt.plot(series, CPU_USA, label='Option américaine') # Plot l'USD \n",
    "plt.plot(series, CPU_EUR, label='Option européenne') # Plot l'USD \n",
    "\n",
    "\n",
    "plt.xlabel(\"N (périodes)\")\n",
    "plt.ylabel(\"CPU utilization as a percentage\")\n",
    "plt.legend(framealpha=1, frameon=True);\n",
    "plt.show()"
   ]
  },
  {
   "cell_type": "markdown",
   "metadata": {},
   "source": [
    "#### Prix option Put en fonction des périodes N (nombre de période)"
   ]
  },
  {
   "cell_type": "code",
   "execution_count": 9,
   "metadata": {},
   "outputs": [],
   "source": [
    "n = 10\n",
    "price_Put_Eur = []\n",
    "price_Put_USD = []\n",
    "series = []\n",
    "\n",
    "for i in range(3, n):\n",
    "    series.append(i)\n",
    "    asset = assetTreeValue(i, 100, 1.1, 0.9)\n",
    "        \n",
    "    # Put\n",
    "    optionvalue_Put_USD = calculationOptionPrice(i, asset, 98, 0.05, 1.1, 0.9, \"P\", \"USA\")\n",
    "    price_Put_USD.append(optionvalue_Put_USD[0][0])\n",
    "\n",
    "    # Put\n",
    "    optionvalue_Put_Eur = calculationOptionPrice(i, asset, 98, 0.05, 1.1, 0.9, \"P\", \"EUR\")\n",
    "    price_Put_Eur.append(optionvalue_Put_Eur[0][0])\n",
    "    "
   ]
  },
  {
   "cell_type": "code",
   "execution_count": 10,
   "metadata": {},
   "outputs": [
    {
     "data": {
      "image/png": "[encoded data removed]",
      "text/plain": [
       "<Figure size 540x360 with 1 Axes>"
      ]
     },
     "metadata": {
      "needs_background": "light"
     },
     "output_type": "display_data"
    }
   ],
   "source": [
    "plt.figure(figsize=(7.5,5))  #Changer taille de la figure\n",
    "\n",
    "plt.plot(series, price_Put_USD, label='Put américain')  # Plot l'EUR\n",
    "\n",
    "plt.plot(series, price_Put_Eur, label='Put européen')  # Plot l'USD \n",
    "\n",
    "plt.xlabel(\"N (périodes)\")\n",
    "plt.ylabel(\"Price(euro)\")\n",
    "plt.legend(framealpha=1, frameon=True);\n",
    "plt.show()"
   ]
  },
  {
   "cell_type": "markdown",
   "metadata": {},
   "source": [
    "#### Prix option Call en fonction des périodes N (nombre de période)"
   ]
  },
  {
   "cell_type": "code",
   "execution_count": 11,
   "metadata": {},
   "outputs": [],
   "source": [
    "n = 100\n",
    "price_Call_USD = []\n",
    "price_Call_Eur = []\n",
    "series = []\n",
    "\n",
    "for i in range(3, n):\n",
    "    series.append(i)\n",
    "    asset = assetTreeValue(i, 100, 1.04, 0.96)\n",
    "    \n",
    "    # Call\n",
    "    optionvalue_Call_USD = calculationOptionPrice(i, asset, 98, 0.04, 1.04, 0.96, \"C\", \"USA\")\n",
    "    price_Call_USD.append(optionvalue_Call_USD[0][0])\n",
    "    #print(optionvalue_Call_USD)\n",
    "    \n",
    "     # Call\n",
    "    optionvalue_Call_Eur = calculationOptionPrice(i, asset, 98, 0.04, 1.04, 0.96, \"C\", \"EUR\")\n",
    "    price_Call_Eur.append(optionvalue_Call_Eur[0][0])\n",
    "    #print(optionvalue_Call_Eur)"
   ]
  },
  {
   "cell_type": "code",
   "execution_count": 12,
   "metadata": {},
   "outputs": [
    {
     "data": {
      "image/png": "[encoded data removed]",
      "text/plain": [
       "<Figure size 540x360 with 1 Axes>"
      ]
     },
     "metadata": {
      "needs_background": "light"
     },
     "output_type": "display_data"
    }
   ],
   "source": [
    "plt.figure(figsize=(7.5,5))  #Changer taille de la figure\n",
    "\n",
    "plt.plot(series, price_Call_USD, label='Call américain')\n",
    "plt.plot(series, price_Call_Eur, label='Call européenn')  # Plot l'USD \n",
    "\n",
    "plt.xlabel(\"N (périodes)\")\n",
    "plt.ylabel(\"Price(euro)\")\n",
    "plt.legend(framealpha=1, frameon=True);\n",
    "plt.show()"
   ]
  },
  {
   "cell_type": "markdown",
   "metadata": {},
   "source": [
    "#### Prix option de 5 périodes, 100 euros au départ, en fonction de K (strike) :"
   ]
  },
  {
   "cell_type": "code",
   "execution_count": 8,
   "metadata": {},
   "outputs": [],
   "source": [
    "price_Put_Eur = []\n",
    "price_Put_USD = []\n",
    "\n",
    "price_Call_USD = []\n",
    "price_Call_Eur = []\n",
    "series = []\n",
    "\n",
    "\n",
    "for i in range(75,125):\n",
    "    series.append(i)\n",
    "    asset = assetTreeValue(10, 100, 1.1, 0.9)\n",
    "        \n",
    "    # Put USA\n",
    "    optionvalue_Put_USD = calculationOptionPrice(5, asset, i, 0.05, 1.1, 0.9, \"P\", \"USA\")\n",
    "    price_Put_USD.append(optionvalue_Put_USD[0][0])\n",
    "\n",
    "    # Put EUR\n",
    "    optionvalue_Put_Eur = calculationOptionPrice(5, asset, i, 0.05, 1.1, 0.9, \"P\", \"EUR\")\n",
    "    price_Put_Eur.append(optionvalue_Put_Eur[0][0])\n",
    "    \n",
    "    # Call USA\n",
    "    optionvalue_Call_USD = calculationOptionPrice(5, asset, i, 0.05, 1.1, 0.9, \"C\", \"USA\")\n",
    "    price_Call_USD.append(optionvalue_Call_USD[0][0])\n",
    "    \n",
    "    # Call EUR\n",
    "    optionvalue_Call_Eur = calculationOptionPrice(5, asset, i, 0.05, 1.1, 0.9, \"C\", \"EUR\")\n",
    "    price_Call_Eur.append(optionvalue_Call_Eur[0][0])"
   ]
  },
  {
   "cell_type": "code",
   "execution_count": 9,
   "metadata": {},
   "outputs": [
    {
     "data": {
      "image/png": "[encoded data removed]",
      "text/plain": [
       "<Figure size 540x360 with 1 Axes>"
      ]
     },
     "metadata": {
      "needs_background": "light"
     },
     "output_type": "display_data"
    }
   ],
   "source": [
    "plt.figure(figsize=(7.5,5))  #Changer taille de la figure\n",
    "\n",
    "plt.plot(series, price_Put_USD, label='Put américain')  # Plot l'EUR\n",
    "\n",
    "plt.plot(series, price_Put_Eur, label='Put européen')  # Plot l'USD \n",
    "\n",
    "plt.plot(series, price_Call_USD, label='Call américain')\n",
    "\n",
    "plt.plot(series, price_Call_Eur, label='Call européenn')\n",
    "\n",
    "plt.xlabel(\"Strike price (euros)\")\n",
    "plt.ylabel(\"Price (euros)\")\n",
    "plt.legend(framealpha=1, frameon=True);\n",
    "plt.show()"
   ]
  },
  {
   "cell_type": "markdown",
   "metadata": {},
   "source": [
    "## Partie 2\n",
    "\n",
    "Ecrire le modèle qui permet de minimiser la CVaR pour une probabilité donnée  (On donne le modèle général avec un nombre d’actifs n, un nombre de scénarios S, un vecteur rendement  et un rendement minimum R."
   ]
  },
  {
   "cell_type": "markdown",
   "metadata": {},
   "source": [
    "<img src=\"pics\\Partie 2.png\" width=\"480\" />"
   ]
  },
  {
   "cell_type": "code",
   "execution_count": 19,
   "metadata": {},
   "outputs": [],
   "source": [
    "from scipy.optimize import minimize"
   ]
  },
  {
   "cell_type": "code",
   "execution_count": 20,
   "metadata": {},
   "outputs": [],
   "source": [
    "# X[0] Gamma, X[1...N] Actifs risqués \n",
    "def func_minimise_ES(X):\n",
    "    loose_function = 0\n",
    "    for i in range(S):\n",
    "        for j in range (1, X.size):   \n",
    "            loose_function = loose_function + max(((b[j]-Y[i][j-1])*X[j]-X[0]),0)\n",
    "    return X[0] + (1/(1-alpha)*S)*loose_function"
   ]
  },
  {
   "cell_type": "code",
   "execution_count": 21,
   "metadata": {},
   "outputs": [],
   "source": [
    "# S fois cette contrainte\n",
    "def constraint1(X,s):\n",
    "    sum = 0\n",
    "    for j in range (1,X.size):\n",
    "        sum = sum + (b[j]-Y[s][j-1])*X[j]\n",
    "    return max((sum-X[0]),0) - (sum-X[0])\n",
    "\n"
   ]
  },
  {
   "cell_type": "code",
   "execution_count": 22,
   "metadata": {},
   "outputs": [],
   "source": [
    "# S fois cette contrainte\n",
    "def constraint2(X,s):\n",
    "    sum = 0\n",
    "    for j in range (1,X.size):\n",
    "        sum = sum + (b[j]-Y[s][j-1])*X[j]\n",
    "    \n",
    "    return max((sum-X[0]),0)-0"
   ]
  },
  {
   "cell_type": "code",
   "execution_count": 23,
   "metadata": {},
   "outputs": [],
   "source": [
    "def constraint3(X):\n",
    "    sum = 1\n",
    "    for i in range(1,X.size):\n",
    "        sum = sum - X[i]\n",
    "    \n",
    "    return sum\n"
   ]
  },
  {
   "cell_type": "code",
   "execution_count": 24,
   "metadata": {},
   "outputs": [],
   "source": [
    "def minimise_ES_constraint4(X):\n",
    "    sum = 0\n",
    "    for i in range(1,X.size):\n",
    "        sum += X[i]*E[i]\n",
    "        \n",
    "    return sum - R"
   ]
  },
  {
   "cell_type": "code",
   "execution_count": 25,
   "metadata": {},
   "outputs": [],
   "source": [
    "# Pour que la somme des X soit toujours un reel \n",
    "def constraint5(X):\n",
    "    return np.sum(np.iscomplex(X))"
   ]
  },
  {
   "cell_type": "markdown",
   "metadata": {},
   "source": [
    "#### Fonctions pour la compréhension logique : "
   ]
  },
  {
   "cell_type": "code",
   "execution_count": 26,
   "metadata": {},
   "outputs": [],
   "source": [
    "def calculatePortfolioRendement(X):\n",
    "    sum = 0\n",
    "    for i in range(1,X.size):\n",
    "        sum += X[i]*E[i]\n",
    "    return sum"
   ]
  },
  {
   "cell_type": "code",
   "execution_count": 27,
   "metadata": {},
   "outputs": [],
   "source": [
    "def loose_function(X):\n",
    "    loose_function = 0\n",
    "    for i in range(S):\n",
    "        for j in range (1, X.size):\n",
    "            loose_function = loose_function + max(((b[j]-Y[i][j-1])*X[j]-X[0]),0)\n",
    "    return loose_function"
   ]
  },
  {
   "cell_type": "markdown",
   "metadata": {},
   "source": [
    "#### Générateur de scénarios :"
   ]
  },
  {
   "cell_type": "code",
   "execution_count": 28,
   "metadata": {},
   "outputs": [],
   "source": [
    "import random as rd\n",
    "import matplotlib.pyplot as plt"
   ]
  },
  {
   "cell_type": "code",
   "execution_count": 29,
   "metadata": {},
   "outputs": [],
   "source": [
    "def generateY(X,S):\n",
    "    Y = []\n",
    "    for i in range(S):\n",
    "        Z = []\n",
    "        for j in range(1,X.size):\n",
    "            Z.append(X[j] + rd.randint(0, 10)) \n",
    "        Y.append(Z)\n",
    "    return Y"
   ]
  },
  {
   "cell_type": "markdown",
   "metadata": {},
   "source": [
    "#### Calculer VaR initial (Test) :"
   ]
  },
  {
   "cell_type": "markdown",
   "metadata": {},
   "source": [
    "Méthode de Calcul de la Variance : https://blog.quantinsti.com/calculating-covariance-matrix-portfolio-variance/ <br>\n",
    "Expected portfolio variance = WT * (Covariance Matrix) * W\n",
    "<br>\n",
    "La matrice de covariance est donnée, par besoin de valeurs historiques"
   ]
  },
  {
   "cell_type": "code",
   "execution_count": 30,
   "metadata": {},
   "outputs": [],
   "source": [
    "def calculatePortfolioVariance(X):\n",
    "    assets = X\n",
    "    assets = np.delete(assets, 0)\n",
    "    variance = (assets)*Cov*(assets.reshape((-1, 1)))\n",
    "    return variance "
   ]
  },
  {
   "cell_type": "markdown",
   "metadata": {},
   "source": [
    "La volatilité du portefeuille est la racine carré de la variance :"
   ]
  },
  {
   "cell_type": "code",
   "execution_count": 31,
   "metadata": {},
   "outputs": [],
   "source": [
    "def calculatePortfolioVolatity(X):\n",
    "    variance = calculatePortfolioVariance(X)\n",
    "    variance = variance[0][0]\n",
    "    return mt.pow(variance, (0.5))"
   ]
  },
  {
   "cell_type": "markdown",
   "metadata": {},
   "source": [
    "Méthode de calcul de la VaR paramétrique : https://meritis.fr/vous-saurez-tout-sur-la-var/ <br>\n",
    "VaR = z*sigma - R <br>\n",
    "    - R : rentabilité du portefeuille\n",
    "    - z : interval de confiance de la loi normal obtenue grâce à norm\n",
    "    - sigma : volatility du portefeuille"
   ]
  },
  {
   "cell_type": "code",
   "execution_count": 32,
   "metadata": {},
   "outputs": [],
   "source": [
    "def calculatePortfolioVaR(X, alpha):\n",
    "    rend = calculatePortfolioRendement(X)\n",
    "    z = norm.ppf(1-alpha)\n",
    "    sigma = calculatePortfolioVolatity(X)\n",
    "    VaR_n = abs(z*sigma - rend)\n",
    "    return  round(VaR_n*100,2)"
   ]
  },
  {
   "cell_type": "markdown",
   "metadata": {},
   "source": [
    "### Exécution"
   ]
  },
  {
   "cell_type": "code",
   "execution_count": 33,
   "metadata": {},
   "outputs": [],
   "source": [
    "import math as mt\n",
    "from scipy.stats import norm\n",
    "import time"
   ]
  },
  {
   "cell_type": "markdown",
   "metadata": {},
   "source": [
    "#### General Informations : "
   ]
  },
  {
   "cell_type": "code",
   "execution_count": 183,
   "metadata": {},
   "outputs": [],
   "source": [
    "alpha = 0.999# Probabilité\n",
    "R = 0.001 # Rentabilité"
   ]
  },
  {
   "cell_type": "markdown",
   "metadata": {},
   "source": [
    "#### Assets Informations :"
   ]
  },
  {
   "cell_type": "code",
   "execution_count": 184,
   "metadata": {},
   "outputs": [
    {
     "name": "stdout",
     "output_type": "stream",
     "text": [
      "Réparition des actifs (X[0] => Gamma) X:  [1.    0.125 0.125 0.125 0.125 0.125 0.125 0.125 0.125] \n",
      "\n",
      "Prix des obligations b :  [  0.     9.73 128.8    3.93 126.8  132.19  29.7  166.14  25.9 ] \n",
      "\n",
      "Espérance de rendement E :  [0.         0.00116789 0.00019611 0.00044436 0.00019611 0.00078812\n",
      " 0.0002209  0.00021948 0.00026063] \n",
      "\n"
     ]
    }
   ],
   "source": [
    "Nb_Assets = 8\n",
    "Valo = 10000 # fixe Valorisation fictive pour calculer la VaR fictive \n",
    "\n",
    "X = np.array([1, 0.125,0.125, 0.125, 0.125, 0.125, 0.125, 0.125, 0.125]) # Réparitition des actifs,  Attention : X[0] == gamma\n",
    "b = np.array([0, 9.73, 128.80, 3.93, 126.80, 132.19, 29.70, 166.14, 25.90]) # Prix des obligations, b[0]=0 pour la fonction objective\n",
    "E = np.array([0, 0.001167892, 0.00019611, 0.000444357, 0.00019611,0.000788123, 0.000220896, 0.00021948, 0.000260628]) # Espérence de rendement des actifs\n",
    "\n",
    "#Cov = np.matrix([[0.02778, 0.00387, 0.00021], [0.00387, 0.01112, -0.00020], [0.00021, -0.00020, 0.00115] ])\n",
    "\n",
    "\n",
    "print('Réparition des actifs (X[0] => Gamma) X: ', X, '\\n')\n",
    "print('Prix des obligations b : ', b, '\\n')\n",
    "print('Espérance de rendement E : ', E, '\\n')\n",
    "#print('Covarinace des actifs Cov :', Cov, '\\n')"
   ]
  },
  {
   "cell_type": "markdown",
   "metadata": {},
   "source": [
    "#### Scénarios Informations :"
   ]
  },
  {
   "cell_type": "code",
   "execution_count": 185,
   "metadata": {},
   "outputs": [],
   "source": [
    "S = 10 # Nombre de scénarios\n",
    "Y = np.array(generateY(X,S)) # vecteur de probabilités\n",
    "#print('Vecteur de probabilité Y : ', Y)"
   ]
  },
  {
   "cell_type": "markdown",
   "metadata": {},
   "source": [
    "#### Lancement :"
   ]
  },
  {
   "cell_type": "code",
   "execution_count": 186,
   "metadata": {},
   "outputs": [
    {
     "name": "stdout",
     "output_type": "stream",
     "text": [
      "Function initale :  6623500.999999994\n",
      "Function de perte initial :  662.35\n",
      "Gamma initial :  1.0\n",
      "1 - Répartition initiale :  0.0\n",
      "Rendement initial :  0.00043669950000000004\n",
      "Rendement initial - Rendement espéré :  -0.0005633005 \n",
      "\n",
      "`xtol` termination condition is satisfied.\n",
      "Number of iterations: 496, function evaluations: 4960, CG iterations: 1512, optimality: 1.78e+00, constraint violation: 1.53e-08, execution time: 1.1e+01 s.\n",
      " barrier_parameter: 2.048000000000001e-09\n",
      " barrier_tolerance: 2.048000000000001e-09\n",
      "          cg_niter: 1512\n",
      "      cg_stop_cond: 2\n",
      "            constr: [array([0.]), array([0.]), array([0.]), array([0.]), array([0.]), array([0.]), array([0.]), array([0.]), array([0.]), array([0.]), array([1.56829539]), array([0.62611669]), array([0.54503813]), array([3.30217885]), array([2.23745704]), array([1.83362675]), array([2.4457406]), array([3.32149709]), array([4.12839681]), array([0.93579857]), array([-1.52983349e-08]), array([1.72944914e-07]), array([6.05913039e+00, 7.82201726e-01, 2.14069376e-04, 1.76084996e-01,\n",
      "       3.96036344e-02, 2.66615320e-04, 9.22184041e-04, 1.33301050e-04,\n",
      "       5.73489875e-04])]\n",
      "       constr_nfev: [4960, 4960, 4960, 4960, 4960, 4960, 4960, 4960, 4960, 4960, 4960, 4960, 4960, 4960, 4960, 4960, 4960, 4960, 4960, 4960, 4960, 4960, 0]\n",
      "       constr_nhev: [0, 0, 0, 0, 0, 0, 0, 0, 0, 0, 0, 0, 0, 0, 0, 0, 0, 0, 0, 0, 0, 0, 0]\n",
      "       constr_njev: [0, 0, 0, 0, 0, 0, 0, 0, 0, 0, 0, 0, 0, 0, 0, 0, 0, 0, 0, 0, 0, 0, 0]\n",
      "    constr_penalty: 1.0\n",
      "  constr_violation: 1.529833493891207e-08\n",
      "    execution_time: 11.43922209739685\n",
      "               fun: 6.059130390034437\n",
      "              grad: array([1., 0., 0., 0., 0., 0., 0., 0., 0.])\n",
      "               jac: [array([[0., 0., 0., 0., 0., 0., 0., 0., 0.]]), array([[0., 0., 0., 0., 0., 0., 0., 0., 0.]]), array([[0., 0., 0., 0., 0., 0., 0., 0., 0.]]), array([[0., 0., 0., 0., 0., 0., 0., 0., 0.]]), array([[0., 0., 0., 0., 0., 0., 0., 0., 0.]]), array([[0., 0., 0., 0., 0., 0., 0., 0., 0.]]), array([[0., 0., 0., 0., 0., 0., 0., 0., 0.]]), array([[0., 0., 0., 0., 0., 0., 0., 0., 0.]]), array([[0., 0., 0., 0., 0., 0., 0., 0., 0.]]), array([[0., 0., 0., 0., 0., 0., 0., 0., 0.]]), array([[ -1.        ,   3.60499996, 124.67500001,  -1.19499999,\n",
      "        123.67500001, 129.065     ,  29.57499999, 161.01500005,\n",
      "         17.77499998]]), array([[ -1.        ,   3.60499996, 124.67500001,  -5.19499999,\n",
      "        117.67499995, 129.065     ,  27.57499999, 156.01499999,\n",
      "         21.77499998]]), array([[ -1.        ,   1.60500002, 128.67500001,   2.80500001,\n",
      "        119.67500001, 128.065     ,  25.57500005, 157.01499999,\n",
      "         15.77499998]]), array([[ -1.        ,   5.60500002, 119.67500007,  -0.19499993,\n",
      "        123.67500007, 128.06500006,  22.57500005, 157.01499999,\n",
      "         20.7750001 ]]), array([[ -1.        ,   3.60500002, 124.67500007,   2.80499995,\n",
      "        122.67499995, 132.06499994,  28.57500005, 165.01499999,\n",
      "         24.77499998]]), array([[ -1.        ,   4.60500002, 118.67500001,  -3.19499999,\n",
      "        119.67500001, 129.065     ,  22.57499999, 159.01499999,\n",
      "         20.77499998]]), array([[ -1.        ,   3.6049999 , 120.67499995,   3.80499995,\n",
      "        123.67500007, 123.06500006,  27.57500005, 158.01499999,\n",
      "         20.7750001 ]]), array([[ -1.        ,   5.60500002, 121.67499995,   0.80500007,\n",
      "        119.67499995, 126.06500006,  25.57500005, 158.01499999,\n",
      "         18.77499998]]), array([[ -1.        ,   7.60500002, 120.67499995,  -4.19500017,\n",
      "        122.67499995, 130.06499994,  27.57500005, 160.01499999,\n",
      "         20.7750001 ]]), array([[ -1.        ,   3.60500002, 121.67500007,  -5.19499993,\n",
      "        125.67500007, 128.065     ,  22.57499999, 161.01500005,\n",
      "         17.77499998]]), array([[ 0., -1., -1., -1., -1., -1., -1., -1., -1.]]), array([[0.        , 0.00116789, 0.00019611, 0.00044436, 0.00019611,\n",
      "        0.00078812, 0.0002209 , 0.00021948, 0.00026063]]), array([[1., 0., 0., 0., 0., 0., 0., 0., 0.],\n",
      "       [0., 1., 0., 0., 0., 0., 0., 0., 0.],\n",
      "       [0., 0., 1., 0., 0., 0., 0., 0., 0.],\n",
      "       [0., 0., 0., 1., 0., 0., 0., 0., 0.],\n",
      "       [0., 0., 0., 0., 1., 0., 0., 0., 0.],\n",
      "       [0., 0., 0., 0., 0., 1., 0., 0., 0.],\n",
      "       [0., 0., 0., 0., 0., 0., 1., 0., 0.],\n",
      "       [0., 0., 0., 0., 0., 0., 0., 1., 0.],\n",
      "       [0., 0., 0., 0., 0., 0., 0., 0., 1.]])]\n",
      "   lagrangian_grad: array([ 0.9553646 ,  0.79617143,  1.05954557,  1.21514187,  0.80494779,\n",
      "        1.29696166,  0.09337252,  1.77508304, -0.04260551])\n",
      "           message: '`xtol` termination condition is satisfied.'\n",
      "            method: 'tr_interior_point'\n",
      "              nfev: 4960\n",
      "              nhev: 0\n",
      "               nit: 496\n",
      "             niter: 496\n",
      "              njev: 496\n",
      "        optimality: 1.7750830409348284\n",
      "            status: 2\n",
      "           success: True\n",
      "         tr_radius: 1.0000000000000005e-09\n",
      "                 v: [array([-1.48184488e+13]), array([-2.82806312e+11]), array([1.04691348e+12]), array([-5.20901679e+11]), array([-2.04730457e+11]), array([3.27323835e+11]), array([6.28246889e+10]), array([6.27991161e+10]), array([-1.86208606e+11]), array([-3.09860182e+10]), array([-0.00550409]), array([-0.03222993]), array([0.14692955]), array([-0.00134422]), array([0.00483121]), array([-0.00611803]), array([0.00270003]), array([0.00236234]), array([-0.00144798]), array([-0.06554348]), array([0.66872113]), array([1421.26042958]), array([ 0.        , -0.05216399, -4.93105834,  0.27405801, -3.81155205,\n",
      "       -4.82503028, -0.84294625, -4.65173378, -0.13247036])]\n",
      "                 x: array([6.05913039e+00, 7.82201726e-01, 2.14069376e-04, 1.76084996e-01,\n",
      "       3.96036344e-02, 2.66615320e-04, 9.22184041e-04, 1.33301050e-04,\n",
      "       5.73489875e-04]) \n",
      "\n",
      "Function finale :  6.059130390034437\n",
      "Function de perte finale :  0\n",
      "Gamma final :  6.059130390034437\n",
      "1 - Répartition obtenue :  -1.529833493891207e-08\n",
      "Rendement final :  0.0010001729449136724\n",
      "Rendement final - Rendement espéré :   1.7294491367236993e-07 \n",
      "\n"
     ]
    }
   ],
   "source": [
    "print('Function initale : ', func_minimise_ES(X))\n",
    "#print('VaR initial VaR : ', calculatePortfolioVaR(X, alpha))\n",
    "print('Function de perte initial : ', loose_function(X))\n",
    "print('Gamma initial : ', X[0])\n",
    "print('1 - Répartition initiale : ', constraint3(X))\n",
    "print('Rendement initial : ', calculatePortfolioRendement(X))\n",
    "print('Rendement initial - Rendement espéré : ', minimise_ES_constraint4(X), '\\n')\n",
    "\n",
    "\n",
    "# constraints\n",
    "Const1 = [] # S*contrainte \n",
    "Const2 = [] # S*contrainte\n",
    "for i in range(S):\n",
    "    Const1.append({'type':'ineq','args' : (i,) , 'fun': constraint1})\n",
    "    Const2.append({'type':'ineq','args' : (i,)  , 'fun': constraint2}) \n",
    "\n",
    "ineq_cons = []\n",
    "ineq_cons = (Const1 + Const2 + [{'type':'eq','fun': constraint3}, {'type':'ineq','fun': minimise_ES_constraint4}])\n",
    "\n",
    "\n",
    "# bonds xxx\n",
    "bond = (0, 1.0)\n",
    "ineq_bond = ((None, None),)\n",
    "for i in range(Nb_Assets):\n",
    "    ineq_bond = ineq_bond + (bond,) # x1 >= 0, x2 >= 0, ...\n",
    "\n",
    "\n",
    "\n",
    "sol = minimize(func_minimise_ES,\n",
    "                   x0=X, \n",
    "                   method='trust-constr',  # quand S petit, utiliser 'SLSQP' \n",
    "                   bounds=ineq_bond, \n",
    "                   options={'disp': True},\n",
    "                   constraints=ineq_cons)\n",
    "print(sol, '\\n')\n",
    "Res = sol.x\n",
    "\n",
    "print('Function finale : ', func_minimise_ES(Res))\n",
    "#print('VaR final VaR : ', calculatePortfolioVaR(Res, alpha))\n",
    "print('Function de perte finale : ', loose_function(Res))\n",
    "print('Gamma final : ', Res[0])\n",
    "print('1 - Répartition obtenue : ', constraint3(Res))\n",
    "print('Rendement final : ', calculatePortfolioRendement(Res))\n",
    "print('Rendement final - Rendement espéré :  ', minimise_ES_constraint4(Res), '\\n')\n",
    "\n"
   ]
  },
  {
   "cell_type": "markdown",
   "metadata": {},
   "source": [
    "## Partie 3\n",
    "\n",
    "Considérons le modèle de Markowitz maximisant le rendement du portefeuille et assurant une CVaR  ne dépassant pas un certain seuil.  \n",
    "Ecrire le modèle correspondant et le résoudre pour certaines données aléatoires. "
   ]
  },
  {
   "cell_type": "markdown",
   "metadata": {},
   "source": [
    "<img src=\"pics\\Partie 3.png\" width=\"494\" />"
   ]
  },
  {
   "cell_type": "code",
   "execution_count": 25,
   "metadata": {},
   "outputs": [],
   "source": [
    "from scipy.optimize import linprog"
   ]
  },
  {
   "cell_type": "code",
   "execution_count": 27,
   "metadata": {},
   "outputs": [],
   "source": [
    "# Définition des nouvelles varibales \n",
    "\n",
    "J = np.array([0, 0.50, 0.25, 0.25]) # Ensemble d'indices sur les différentes valeurs disponibles\n",
    "U = np.array([0, 1, 3, 4 ]) # Risque maximal toléré pour une valeur Alpha j"
   ]
  },
  {
   "cell_type": "code",
   "execution_count": 28,
   "metadata": {},
   "outputs": [],
   "source": [
    "# X[0] Gamma, X[1...N] Actifs risqués \n",
    "def func_maximise_yield(X):\n",
    "    rendement = 0\n",
    "    for i in range(1,X.size):\n",
    "        rendement += X[i]*E[i]\n",
    "    return rendement"
   ]
  },
  {
   "cell_type": "code",
   "execution_count": 29,
   "metadata": {},
   "outputs": [],
   "source": [
    "# S fois cette contrainte\n",
    "def maximise_yield_constraint1(X,alpha_j):\n",
    "    sum = 0\n",
    "    for i in range(S):\n",
    "        loose_function = 0\n",
    "        for j in range (1, X.size):\n",
    "            loose_function = loose_function + max(((b[j]-Y[i])*X[j]-X[0]),0)\n",
    "            \n",
    "    return U[alpha_j] - (X[0] + (1/(1-alpha)*S)*loose_function) "
   ]
  },
  {
   "cell_type": "code",
   "execution_count": 47,
   "metadata": {},
   "outputs": [
    {
     "name": "stdout",
     "output_type": "stream",
     "text": [
      "Iteration limit reached    (Exit mode 9)\n",
      "            Current function value: 0.0042663511016504865\n",
      "            Iterations: 100\n",
      "            Function evaluations: 1280\n",
      "            Gradient evaluations: 99\n",
      "     fun: 0.0042663511016504865\n",
      "     jac: array([0.     , 0.1073 , 0.00415, 0.0627 , 0.1045 , 0.1235 ])\n",
      " message: 'Iteration limit reached'\n",
      "    nfev: 1280\n",
      "     nit: 100\n",
      "    njev: 99\n",
      "  status: 9\n",
      " success: False\n",
      "       x: array([9.98525120e+00, 2.50350475e-06, 9.98014869e-01, 1.98275174e-03,\n",
      "       1.66979327e-08, 3.96356454e-09]) \n",
      "\n"
     ]
    }
   ],
   "source": [
    "# constraints\n",
    "Max_Const1 = [] # S*contrainte \n",
    "Max_Const2 = [] # S*contrainte \n",
    "Max_Const3 = [] # S*contrainte\n",
    "\n",
    "for i in range(1, J.size):\n",
    "    Max_Const1.append({'type':'ineq','args' : (i,) , 'fun': maximise_yield_constraint1})\n",
    "        \n",
    "for i in range(S):\n",
    "    Max_Const2.append({'type':'ineq','args' : (i,)  , 'fun': constraint2})\n",
    "    Max_Const3.append({'type':'ineq','args' : (i,)  , 'fun': constraint2})\n",
    "\n",
    "Max_ineq_cons = []\n",
    "Max_ineq_cons = (Max_Const1 + Max_Const2 + Max_Const3 +[{'type':'eq','fun': constraint3}])\n",
    "             \n",
    "\n",
    "\n",
    "# bonds \n",
    "bond = (0, 1.0)\n",
    "Max_ineq_bond = ((None, None),)\n",
    "for i in range(Nb_Assets):\n",
    "    Max_ineq_bond = Max_ineq_bond + (bond,) # x1 >= 0, x2 >= 0, ...\n",
    "\n",
    "\n",
    "sol = minimize(func_maximise_yield,\n",
    "               x0=X, \n",
    "               method='SLSQP',  # Il faut trouver la bonne méthode\n",
    "               bounds=Max_ineq_bond, \n",
    "               options={'disp': True},\n",
    "               constraints=Max_ineq_cons)\n",
    "print(sol, '\\n')"
   ]
  },
  {
   "cell_type": "code",
   "execution_count": null,
   "metadata": {},
   "outputs": [],
   "source": []
  }
 ],
 "metadata": {
  "kernelspec": {
   "display_name": "Python 3",
   "language": "python",
   "name": "python3"
  },
  "language_info": {
   "codemirror_mode": {
    "name": "ipython",
    "version": 3
   },
   "file_extension": ".py",
   "mimetype": "text/x-python",
   "name": "python",
   "nbconvert_exporter": "python",
   "pygments_lexer": "ipython3",
   "version": "3.7.1"
  }
 },
 "nbformat": 4,
 "nbformat_minor": 2
}
