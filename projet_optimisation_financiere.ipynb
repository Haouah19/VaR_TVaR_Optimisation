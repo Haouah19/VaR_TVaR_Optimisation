{
 "cells": [
  {
   "cell_type": "markdown",
   "metadata": {},
   "source": [
    "## Partie 1\n",
    "Implémenter la méthode des treillis pour le calcul des prix d’options (pour les différents types d’options). \n",
    "On testera la méthode sur différentes instances en faisant varier les paramètres (N : le nombre de périodes, r : taux de crédit, d et u). \n",
    "On essayera de considérer aussi des instances assez larges. "
   ]
  },
  {
   "cell_type": "code",
   "execution_count": 123,
   "metadata": {},
   "outputs": [],
   "source": [
    "import matplotlib.pyplot as plt\n",
    "import numpy as np"
   ]
  },
  {
   "cell_type": "code",
   "execution_count": 124,
   "metadata": {},
   "outputs": [],
   "source": [
    "def assetTreeValue(n, S, u, d):  \n",
    "    asset = np.zeros((n+1,n+1))\n",
    "    asset[0,0] = S\n",
    "    for i in range(1,n+1):\n",
    "        asset[i,0] = asset[i-1,0]*u\n",
    "        for j in range(1,i+1):\n",
    "            asset[i,j] = asset[i-1,j-1]*d\n",
    "    return asset    "
   ]
  },
  {
   "cell_type": "code",
   "execution_count": 125,
   "metadata": {},
   "outputs": [],
   "source": [
    "def calculationOptionPrice(n, assetValue, K, r, u, d, PutCall, optiontype):\n",
    "    value = np.zeros((n+1,n+1))\n",
    "    proba = (1+r-d)/(u-d)\n",
    "    \n",
    "    for j in range(n+1):\n",
    "        if PutCall==\"C\": # Call\n",
    "            payoff = max(0, (assetValue[n,j]-K))\n",
    "            value[n,j] = payoff\n",
    "        elif PutCall==\"P\": #Put\n",
    "            print(j)\n",
    "            payoff = max(0, (K-assetValue[n,j]))\n",
    "            value[n,j] = payoff\n",
    "    \n",
    "    if optiontype == \"USA\":\n",
    "         for i in range(n-1,-1,-1):\n",
    "            for j in range(i+1):\n",
    "                if PutCall==\"P\":\n",
    "                    value[i,j] = max(0, K-assetValue[i,j], (1/1+r)*(proba*value[i+1,j]+(1-proba)*value[i+1,j+1]))\n",
    "                elif PutCall==\"C\":\n",
    "                    value[i,j] = max(0, assetValue[i,j]-K, (1/1+r)*(proba*value[i+1,j]+(1-proba)*value[i+1,j+1]))\n",
    "    \n",
    "    if optiontype == \"EUR\":\n",
    "         for i in range(n-1,-1,-1):\n",
    "            for j in range(i+1):\n",
    "                value[i,j] = (1/1+r)*(proba*value[i+1,j]+(1-proba)*value[i+1,j+1])\n",
    "                    \n",
    "    return value"
   ]
  },
  {
   "cell_type": "code",
   "execution_count": 126,
   "metadata": {},
   "outputs": [
    {
     "name": "stdout",
     "output_type": "stream",
     "text": [
      "[[100.   0.   0.]\n",
      " [110.  90.   0.]\n",
      " [121.  99.  81.]] \n",
      "\n",
      "[[21.9121875  0.         0.       ]\n",
      " [25.725      6.3        0.       ]\n",
      " [30.         8.         0.       ]] \n",
      "\n",
      "Option value :  21.91218750000002\n"
     ]
    }
   ],
   "source": [
    "asset = assetTreeValue(2, 100, 1.1, 0.9)\n",
    "optionvalue = calculationOptionPrice(2, asset, 91, 0.05, 1.1, 0.9, \"C\", \"EUR\")\n",
    "\n",
    "print(asset, '\\n')\n",
    "print(optionvalue, '\\n')\n",
    "print('Option value : ', optionvalue[0][0])"
   ]
  },
  {
   "cell_type": "markdown",
   "metadata": {},
   "source": [
    "## Partie 2\n",
    "Ecrire le modèle qui permet de minimiser la CVaR pour une probabilité donnée  (On donne le modèle général avec un nombre d’actifs n, un nombre de scénarios S, un vecteur rendement  et un rendement minimum R. "
   ]
  },
  {
   "cell_type": "markdown",
   "metadata": {},
   "source": [
    "<img src=\"pics\\Partie 2.png\" width=\"480\" />"
   ]
  },
  {
   "cell_type": "code",
   "execution_count": 127,
   "metadata": {},
   "outputs": [],
   "source": [
    "from scipy.optimize import minimize"
   ]
  },
  {
   "cell_type": "code",
   "execution_count": 134,
   "metadata": {},
   "outputs": [],
   "source": [
    "# X[0] Gamma, X[1...N] Actifs risqués \n",
    "def func_minimise_ES(X):\n",
    "    loose_function = 0\n",
    "    for i in range(S):\n",
    "        for j in range (1, X.size):   \n",
    "            loose_function = loose_function + max(((b[j]-Y[i][j-1])*X[j]-X[0]),0)\n",
    "    return X[0] + (1/(1-alpha)*S)*loose_function"
   ]
  },
  {
   "cell_type": "code",
   "execution_count": 140,
   "metadata": {},
   "outputs": [],
   "source": [
    "# S fois cette contrainte\n",
    "def constraint1(X,s):\n",
    "    sum = 0\n",
    "    for j in range (1,X.size):\n",
    "        sum = sum + (b[j]-Y[s][j-1])*X[j]\n",
    "    return max((sum-X[0]),0) - (sum-X[0])\n",
    "\n"
   ]
  },
  {
   "cell_type": "code",
   "execution_count": 141,
   "metadata": {},
   "outputs": [],
   "source": [
    "# S fois cette contrainte\n",
    "def constraint2(X,s):\n",
    "    sum = 0\n",
    "    for j in range (1,X.size):\n",
    "        sum = sum + (b[j]-Y[s][j-1])*X[j]\n",
    "    \n",
    "    return max((sum-X[0]),0)-0"
   ]
  },
  {
   "cell_type": "code",
   "execution_count": 142,
   "metadata": {},
   "outputs": [],
   "source": [
    "def constraint3(X):\n",
    "    sum = 1\n",
    "    for i in range(1,X.size):\n",
    "        sum = sum - X[i]\n",
    "    \n",
    "    return sum\n"
   ]
  },
  {
   "cell_type": "code",
   "execution_count": 143,
   "metadata": {},
   "outputs": [],
   "source": [
    "def minimise_ES_constraint4(X):\n",
    "    sum = 0\n",
    "    for i in range(1,X.size):\n",
    "        sum += X[i]*E[i]\n",
    "        \n",
    "    return sum - R"
   ]
  },
  {
   "cell_type": "code",
   "execution_count": 144,
   "metadata": {},
   "outputs": [],
   "source": [
    "# Pour que la somme des X soit toujours un reel \n",
    "def constraint5(X):\n",
    "    return np.sum(np.iscomplex(X))"
   ]
  },
  {
   "cell_type": "markdown",
   "metadata": {},
   "source": [
    "#### Fonctions pour la compréhension logique : "
   ]
  },
  {
   "cell_type": "code",
   "execution_count": 158,
   "metadata": {},
   "outputs": [],
   "source": [
    "def calculatePortfolioRendement(X):\n",
    "    sum = 0\n",
    "    for i in range(1,X.size):\n",
    "        sum += X[i]*E[i]\n",
    "    return sum"
   ]
  },
  {
   "cell_type": "code",
   "execution_count": 159,
   "metadata": {},
   "outputs": [],
   "source": [
    "def loose_function(X):\n",
    "    loose_function = 0\n",
    "    for i in range(S):\n",
    "        for j in range (1, X.size):\n",
    "            loose_function = loose_function + max(((b[j]-Y[i][j-1])*X[j]-X[0]),0)\n",
    "    return loose_function"
   ]
  },
  {
   "cell_type": "markdown",
   "metadata": {},
   "source": [
    "#### Générateur de scénarios :"
   ]
  },
  {
   "cell_type": "code",
   "execution_count": 160,
   "metadata": {},
   "outputs": [],
   "source": [
    "import random as rd\n",
    "import matplotlib.pyplot as plt"
   ]
  },
  {
   "cell_type": "code",
   "execution_count": 180,
   "metadata": {},
   "outputs": [],
   "source": [
    "def generateY(X,S):\n",
    "    Y = []\n",
    "    for i in range(S):\n",
    "        Z = []\n",
    "        for j in range(1,X.size):\n",
    "            Z.append(X[j] + rd.randint(0, 10)) \n",
    "        Y.append(Z)\n",
    "    return Y"
   ]
  },
  {
   "cell_type": "markdown",
   "metadata": {},
   "source": [
    "#### Calculer VaR initial (Test) :"
   ]
  },
  {
   "cell_type": "markdown",
   "metadata": {},
   "source": [
    "Méthode de Calcul de la Variance : https://blog.quantinsti.com/calculating-covariance-matrix-portfolio-variance/ <br>\n",
    "Expected portfolio variance = WT * (Covariance Matrix) * W\n",
    "<br>\n",
    "La matrice de covariance est donnée, par besoin de valeurs historiques"
   ]
  },
  {
   "cell_type": "code",
   "execution_count": 162,
   "metadata": {},
   "outputs": [],
   "source": [
    "def calculatePortfolioVariance(X):\n",
    "    assets = X\n",
    "    assets = np.delete(assets, 0)\n",
    "    variance = (assets)*Cov*(assets.reshape((-1, 1)))\n",
    "    return variance "
   ]
  },
  {
   "cell_type": "markdown",
   "metadata": {},
   "source": [
    "La volatilité du portefeuille est la racine carré de la variance :"
   ]
  },
  {
   "cell_type": "code",
   "execution_count": 163,
   "metadata": {},
   "outputs": [],
   "source": [
    "def calculatePortfolioVolatity(X):\n",
    "    variance = calculatePortfolioVariance(X)\n",
    "    variance = variance[0][0]\n",
    "    return mt.pow(variance, (0.5))"
   ]
  },
  {
   "cell_type": "markdown",
   "metadata": {},
   "source": [
    "Méthode de calcul de la VaR paramétrique : https://meritis.fr/vous-saurez-tout-sur-la-var/ <br>\n",
    "VaR = z*sigma - R <br>\n",
    "    - R : rentabilité du portefeuille\n",
    "    - z : interval de confiance de la loi normal obtenue grâce à norm\n",
    "    - sigma : volatility du portefeuille"
   ]
  },
  {
   "cell_type": "code",
   "execution_count": 164,
   "metadata": {},
   "outputs": [],
   "source": [
    "def calculatePortfolioVaR(X, alpha):\n",
    "    rend = calculatePortfolioRendement(X)\n",
    "    z = norm.ppf(1-alpha)\n",
    "    sigma = calculatePortfolioVolatity(X)\n",
    "    VaR_n = abs(z*sigma - rend)\n",
    "    return  round(VaR_n*100,2)"
   ]
  },
  {
   "cell_type": "markdown",
   "metadata": {},
   "source": [
    "#### Calculer CVaR initial (Test) :"
   ]
  },
  {
   "cell_type": "code",
   "execution_count": null,
   "metadata": {},
   "outputs": [],
   "source": []
  },
  {
   "cell_type": "markdown",
   "metadata": {},
   "source": [
    "### Exécution"
   ]
  },
  {
   "cell_type": "code",
   "execution_count": 165,
   "metadata": {},
   "outputs": [],
   "source": [
    "import math as mt\n",
    "from scipy.stats import norm\n",
    "import time"
   ]
  },
  {
   "cell_type": "markdown",
   "metadata": {},
   "source": [
    "#### General Informations : "
   ]
  },
  {
   "cell_type": "code",
   "execution_count": 166,
   "metadata": {},
   "outputs": [],
   "source": [
    "alpha = 0.99 # Probabilité\n",
    "R = 0.10 # Rentabilité"
   ]
  },
  {
   "cell_type": "markdown",
   "metadata": {},
   "source": [
    "#### Assets Informations :"
   ]
  },
  {
   "cell_type": "code",
   "execution_count": 170,
   "metadata": {},
   "outputs": [
    {
     "name": "stdout",
     "output_type": "stream",
     "text": [
      "Réparition des actifs (X[0] => Gamma) X:  [1.   0.5  0.25 0.25] \n",
      "\n",
      "Prix des obligations b :  [ 0 10 10 10] \n",
      "\n",
      "Espérance de rendement E :  [0.      0.1073  0.07415 0.0627 ] \n",
      "\n",
      "Covarinace des actifs Cov : [[ 0.02778  0.00387  0.00021]\n",
      " [ 0.00387  0.01112 -0.0002 ]\n",
      " [ 0.00021 -0.0002   0.00115]] \n",
      "\n"
     ]
    }
   ],
   "source": [
    "Nb_Assets = 3\n",
    "Valo = 10000 # fixe Valorisation fictive pour calculer la VaR fictive \n",
    "\n",
    "X = np.array([1, 0.5, 0.25, 0.25]) # Réparitition des actifs,  Attention : X[0] == gamma\n",
    "b = np.array([0, 10, 10, 10]) # Prix des obligations, b[0]=0 pour la fonction objective\n",
    "E = np.array([0, 0.1073, 0.07415, 0.0627]) # Espérence de rendement des actifs\n",
    "\n",
    "Cov = np.matrix([[0.02778, 0.00387, 0.00021], [0.00387, 0.01112, -0.00020], [0.00021, -0.00020, 0.00115] ])\n",
    "\n",
    "\n",
    "print('Réparition des actifs (X[0] => Gamma) X: ', X, '\\n')\n",
    "print('Prix des obligations b : ', b, '\\n')\n",
    "print('Espérance de rendement E : ', E, '\\n')\n",
    "print('Covarinace des actifs Cov :', Cov, '\\n')"
   ]
  },
  {
   "cell_type": "markdown",
   "metadata": {},
   "source": [
    "#### Scénarios Informations :"
   ]
  },
  {
   "cell_type": "code",
   "execution_count": 186,
   "metadata": {},
   "outputs": [
    {
     "name": "stdout",
     "output_type": "stream",
     "text": [
      "Vecteur de probabilité Y :  [[ 5.5   9.25  9.25]\n",
      " [10.5   9.25  9.25]\n",
      " [ 5.5   2.25  5.25]\n",
      " [ 4.5   7.25  3.25]\n",
      " [ 1.5   5.25  3.25]\n",
      " [10.5   3.25  5.25]\n",
      " [ 6.5   8.25  5.25]\n",
      " [ 1.5   4.25  2.25]\n",
      " [ 5.5   4.25  7.25]\n",
      " [ 0.5   2.25  1.25]\n",
      " [ 5.5  10.25  8.25]\n",
      " [10.5   3.25  1.25]\n",
      " [ 3.5   7.25  1.25]\n",
      " [ 3.5  10.25  9.25]\n",
      " [ 1.5   2.25  6.25]\n",
      " [ 8.5   2.25  3.25]\n",
      " [ 3.5   8.25  3.25]\n",
      " [ 2.5   5.25  8.25]\n",
      " [ 2.5   2.25  6.25]\n",
      " [ 9.5   3.25  7.25]\n",
      " [ 2.5   7.25  8.25]\n",
      " [ 5.5   0.25  0.25]\n",
      " [ 5.5   6.25  4.25]\n",
      " [ 4.5  10.25  4.25]\n",
      " [ 1.5   8.25  8.25]\n",
      " [ 0.5   9.25  8.25]\n",
      " [ 6.5   0.25  5.25]\n",
      " [ 8.5   0.25  9.25]\n",
      " [10.5   3.25  8.25]\n",
      " [ 6.5   5.25  6.25]\n",
      " [ 7.5   5.25  6.25]\n",
      " [ 0.5   9.25  0.25]\n",
      " [ 7.5   0.25  6.25]\n",
      " [ 0.5   4.25  2.25]\n",
      " [ 4.5  10.25  1.25]\n",
      " [ 1.5   0.25  2.25]\n",
      " [ 2.5   4.25  6.25]\n",
      " [ 1.5   9.25  7.25]\n",
      " [ 6.5  10.25  9.25]\n",
      " [ 6.5   9.25  7.25]\n",
      " [ 3.5   2.25 10.25]\n",
      " [ 6.5   4.25  9.25]\n",
      " [ 2.5   7.25 10.25]\n",
      " [ 5.5   2.25 10.25]\n",
      " [ 1.5   4.25  4.25]\n",
      " [ 4.5   2.25  5.25]\n",
      " [10.5   2.25  6.25]\n",
      " [ 4.5   9.25  7.25]\n",
      " [ 9.5   9.25  5.25]\n",
      " [ 9.5   5.25  3.25]\n",
      " [ 0.5   3.25  9.25]\n",
      " [ 5.5   4.25  4.25]\n",
      " [ 5.5   9.25  6.25]\n",
      " [10.5   0.25  0.25]\n",
      " [ 7.5   1.25  5.25]\n",
      " [ 5.5   3.25  3.25]\n",
      " [ 8.5   7.25 10.25]\n",
      " [ 5.5   3.25  9.25]\n",
      " [ 9.5   3.25  3.25]\n",
      " [10.5   7.25  0.25]\n",
      " [ 7.5   1.25  6.25]\n",
      " [ 5.5   0.25  2.25]\n",
      " [ 5.5   4.25  2.25]\n",
      " [ 3.5   0.25  8.25]\n",
      " [10.5   5.25  2.25]\n",
      " [ 7.5   5.25  9.25]\n",
      " [ 7.5   4.25  1.25]\n",
      " [ 2.5   3.25  9.25]\n",
      " [10.5   0.25  6.25]\n",
      " [ 9.5   9.25  8.25]\n",
      " [ 1.5   7.25 10.25]\n",
      " [ 0.5   8.25  9.25]\n",
      " [ 3.5   6.25  6.25]\n",
      " [ 9.5  10.25  6.25]\n",
      " [ 2.5   9.25  2.25]\n",
      " [ 6.5   1.25  4.25]\n",
      " [ 8.5   5.25  6.25]\n",
      " [ 3.5   9.25  9.25]\n",
      " [ 5.5   6.25  8.25]\n",
      " [ 1.5   6.25  6.25]\n",
      " [ 1.5   4.25  2.25]\n",
      " [ 2.5   8.25  8.25]\n",
      " [ 1.5   3.25  8.25]\n",
      " [ 5.5   0.25  0.25]\n",
      " [10.5   8.25  3.25]\n",
      " [ 9.5  10.25  8.25]\n",
      " [10.5   8.25  5.25]\n",
      " [ 2.5   6.25  3.25]\n",
      " [ 7.5   4.25  9.25]\n",
      " [ 2.5   8.25  3.25]\n",
      " [ 2.5   4.25  5.25]\n",
      " [ 1.5   6.25  5.25]\n",
      " [ 6.5   8.25  3.25]\n",
      " [ 8.5  10.25  9.25]\n",
      " [ 8.5   4.25  0.25]\n",
      " [ 5.5   1.25  2.25]\n",
      " [ 9.5   6.25  7.25]\n",
      " [ 5.5   9.25  7.25]\n",
      " [ 3.5   5.25  6.25]\n",
      " [ 8.5   0.25  8.25]]\n"
     ]
    }
   ],
   "source": [
    "S = 100 # Nombre de scénarios\n",
    "Y = np.array(generateY(X,S)) # vecteur de probabilités\n",
    "print('Vecteur de probabilité Y : ', Y)"
   ]
  },
  {
   "cell_type": "markdown",
   "metadata": {},
   "source": [
    "#### Lancement :"
   ]
  },
  {
   "cell_type": "code",
   "execution_count": 187,
   "metadata": {},
   "outputs": [
    {
     "name": "stdout",
     "output_type": "stream",
     "text": [
      "Function initale :  2253750.999999998\n",
      "Function de perte initial :  225.375\n",
      "Gamma initial :  1.0\n",
      "1 - Répartition initiale :  0.0\n",
      "Rendement initial :  0.08786250000000001\n",
      "Rendement initial - Rendement espéré :  -0.012137499999999996 \n",
      "\n",
      "`xtol` termination condition is satisfied.\n",
      "Number of iterations: 366, function evaluations: 1615, CG iterations: 571, optimality: 1.15e-08, constraint violation: 1.06e-08, execution time: 3.9e+01 s.\n",
      " barrier_parameter: 2.048000000000001e-09\n",
      " barrier_tolerance: 2.048000000000001e-09\n",
      "          cg_niter: 571\n",
      "      cg_stop_cond: 1\n",
      "            constr: [array([0.]), array([0.6572357]), array([0.]), array([0.]), array([0.]), array([0.]), array([0.]), array([0.]), array([0.]), array([0.]), array([0.]), array([0.]), array([0.]), array([0.]), array([0.]), array([0.]), array([0.]), array([0.]), array([0.]), array([0.]), array([0.]), array([0.]), array([0.]), array([0.]), array([0.]), array([0.]), array([0.]), array([0.]), array([0.]), array([0.]), array([0.]), array([0.]), array([0.]), array([0.]), array([0.]), array([0.]), array([0.]), array([0.]), array([0.]), array([0.]), array([0.]), array([0.]), array([0.]), array([0.]), array([0.]), array([0.]), array([0.]), array([0.]), array([0.]), array([0.]), array([0.]), array([0.]), array([0.]), array([0.]), array([0.]), array([0.]), array([0.]), array([0.]), array([0.]), array([0.]), array([0.]), array([0.]), array([0.]), array([0.]), array([0.]), array([0.]), array([0.]), array([0.]), array([0.]), array([0.]), array([0.]), array([0.]), array([0.]), array([0.]), array([0.]), array([0.]), array([0.]), array([0.]), array([0.]), array([0.]), array([0.]), array([0.]), array([0.]), array([0.]), array([0.]), array([0.]), array([0.18778163]), array([0.]), array([0.]), array([0.]), array([0.]), array([0.]), array([0.]), array([0.]), array([0.]), array([0.]), array([0.]), array([0.]), array([0.]), array([0.]), array([3.40385616]), array([0]), array([4.43665512]), array([4.96720105]), array([7.59163779]), array([0.28167245]), array([3.06109186]), array([7.77941943]), array([4.06109186]), array([8.87331024]), array([3.40385616]), array([0.65723571]), array([5.96720105]), array([4.93440208]), array([7.59163779]), array([2.18778164]), array([5.68552861]), array([6.30996535]), array([6.77941942]), array([0.90610919]), array([6.12218372]), array([5.09389083]), array([4.15498268]), array([4.59163779]), array([6.84051127]), array([7.55883883]), array([3.81221838]), array([1.81221838]), array([3.68818937e-09]), array([3.24887349]), array([2.43665512]), array([8.30996535]), array([2.9061092]), array([8.5916378]), array([4.87331023]), array([8.15498269]), array([6.59163779]), array([6.84051127]), array([2.49774697]), array([2.77941941]), array([5.59163779]), array([3.06109186]), array([5.93440209]), array([3.96720105]), array([7.59163779]), array([5.24887349]), array([0.28167245]), array([4.40385616]), array([0.53054593]), array([1.09389082]), array([8.02829291]), array([4.34276431]), array([3.6855286]), array([1.03279897]), array([2.9061092]), array([4.53054594]), array([1.06109186]), array([3.96720105]), array([1.28167245]), array([0.37556326]), array([2.81221838]), array([4.9061092]), array([4.53054594]), array([5.96720105]), array([0.37556326]), array([2.15498267]), array([3.00000001]), array([6.40385616]), array([0.46945408]), array([0.24887348]), array([6.74662046]), array([7.55883883]), array([5.59163779]), array([0.3427643]), array([6.49774698]), array([3.81221838]), array([1.62443675]), array([5.0282929]), array([3.77941942]), array([7.21607453]), array([7.77941943]), array([6.0282929]), array([7.30996535]), array([5.09389083]), array([3.58748131e-09]), array([0.15498267]), array([0]), array([6.68552861]), array([2.24887349]), array([6.49774698]), array([6.68552861]), array([7.30996535]), array([3.24887349]), array([0.87331022]), array([2.28167245]), array([4.81221838]), array([0.62443674]), array([3.59163779]), array([5.68552861]), array([1.90610919]), array([-2.26847294e-09]), array([-1.06448805e-08]), array([0.39196274, 0.81221837, 0.09389082, 0.09389082])]\n",
      "       constr_nfev: [1615, 1615, 1615, 1615, 1615, 1615, 1615, 1615, 1615, 1615, 1615, 1615, 1615, 1615, 1615, 1615, 1615, 1615, 1615, 1615, 1615, 1615, 1615, 1615, 1615, 1615, 1615, 1615, 1615, 1615, 1615, 1615, 1615, 1615, 1615, 1615, 1615, 1615, 1615, 1615, 1615, 1615, 1615, 1615, 1615, 1615, 1615, 1615, 1615, 1615, 1615, 1615, 1615, 1615, 1615, 1615, 1615, 1615, 1615, 1615, 1615, 1615, 1615, 1615, 1615, 1615, 1615, 1615, 1615, 1615, 1615, 1615, 1615, 1615, 1615, 1615, 1615, 1615, 1615, 1615, 1615, 1615, 1615, 1615, 1615, 1615, 1615, 1615, 1615, 1615, 1615, 1615, 1615, 1615, 1615, 1615, 1615, 1615, 1615, 1615, 1615, 1615, 1615, 1615, 1615, 1615, 1615, 1615, 1615, 1615, 1615, 1615, 1615, 1615, 1615, 1615, 1615, 1615, 1615, 1615, 1615, 1615, 1615, 1615, 1615, 1615, 1615, 1615, 1615, 1615, 1615, 1615, 1615, 1615, 1615, 1615, 1615, 1615, 1615, 1615, 1615, 1615, 1615, 1615, 1615, 1615, 1615, 1615, 1615, 1615, 1615, 1615, 1615, 1615, 1615, 1615, 1615, 1615, 1615, 1615, 1615, 1615, 1615, 1615, 1615, 1615, 1615, 1615, 1615, 1615, 1615, 1615, 1615, 1615, 1615, 1615, 1615, 1615, 1615, 1615, 1615, 1615, 1615, 1615, 1615, 1615, 1615, 1615, 1615, 1615, 1615, 1615, 1615, 1615, 1615, 1615, 1615, 1615, 1615, 1615, 1615, 1615, 0]\n",
      "       constr_nhev: [0, 0, 0, 0, 0, 0, 0, 0, 0, 0, 0, 0, 0, 0, 0, 0, 0, 0, 0, 0, 0, 0, 0, 0, 0, 0, 0, 0, 0, 0, 0, 0, 0, 0, 0, 0, 0, 0, 0, 0, 0, 0, 0, 0, 0, 0, 0, 0, 0, 0, 0, 0, 0, 0, 0, 0, 0, 0, 0, 0, 0, 0, 0, 0, 0, 0, 0, 0, 0, 0, 0, 0, 0, 0, 0, 0, 0, 0, 0, 0, 0, 0, 0, 0, 0, 0, 0, 0, 0, 0, 0, 0, 0, 0, 0, 0, 0, 0, 0, 0, 0, 0, 0, 0, 0, 0, 0, 0, 0, 0, 0, 0, 0, 0, 0, 0, 0, 0, 0, 0, 0, 0, 0, 0, 0, 0, 0, 0, 0, 0, 0, 0, 0, 0, 0, 0, 0, 0, 0, 0, 0, 0, 0, 0, 0, 0, 0, 0, 0, 0, 0, 0, 0, 0, 0, 0, 0, 0, 0, 0, 0, 0, 0, 0, 0, 0, 0, 0, 0, 0, 0, 0, 0, 0, 0, 0, 0, 0, 0, 0, 0, 0, 0, 0, 0, 0, 0, 0, 0, 0, 0, 0, 0, 0, 0, 0, 0, 0, 0, 0, 0, 0, 0]\n",
      "       constr_njev: [0, 0, 0, 0, 0, 0, 0, 0, 0, 0, 0, 0, 0, 0, 0, 0, 0, 0, 0, 0, 0, 0, 0, 0, 0, 0, 0, 0, 0, 0, 0, 0, 0, 0, 0, 0, 0, 0, 0, 0, 0, 0, 0, 0, 0, 0, 0, 0, 0, 0, 0, 0, 0, 0, 0, 0, 0, 0, 0, 0, 0, 0, 0, 0, 0, 0, 0, 0, 0, 0, 0, 0, 0, 0, 0, 0, 0, 0, 0, 0, 0, 0, 0, 0, 0, 0, 0, 0, 0, 0, 0, 0, 0, 0, 0, 0, 0, 0, 0, 0, 0, 0, 0, 0, 0, 0, 0, 0, 0, 0, 0, 0, 0, 0, 0, 0, 0, 0, 0, 0, 0, 0, 0, 0, 0, 0, 0, 0, 0, 0, 0, 0, 0, 0, 0, 0, 0, 0, 0, 0, 0, 0, 0, 0, 0, 0, 0, 0, 0, 0, 0, 0, 0, 0, 0, 0, 0, 0, 0, 0, 0, 0, 0, 0, 0, 0, 0, 0, 0, 0, 0, 0, 0, 0, 0, 0, 0, 0, 0, 0, 0, 0, 0, 0, 0, 0, 0, 0, 0, 0, 0, 0, 0, 0, 0, 0, 0, 0, 0, 0, 0, 0, 0]\n",
      "    constr_penalty: 1.0\n",
      "  constr_violation: 1.064488053259538e-08\n",
      "    execution_time: 39.45065093040466\n",
      "               fun: 3642795.0242361464\n",
      "              grad: array([-1909999.,  4575000.,  3970000.,  3225000.])\n",
      "               jac: [array([[0., 0., 0., 0.]]), array([[ 1.  ,  0.5 , -0.75, -0.75]]), array([[0., 0., 0., 0.]]), array([[0., 0., 0., 0.]]), array([[0., 0., 0., 0.]]), array([[0., 0., 0., 0.]]), array([[0., 0., 0., 0.]]), array([[0., 0., 0., 0.]]), array([[0., 0., 0., 0.]]), array([[0., 0., 0., 0.]]), array([[0., 0., 0., 0.]]), array([[0., 0., 0., 0.]]), array([[0., 0., 0., 0.]]), array([[0., 0., 0., 0.]]), array([[0., 0., 0., 0.]]), array([[0., 0., 0., 0.]]), array([[0., 0., 0., 0.]]), array([[0., 0., 0., 0.]]), array([[0., 0., 0., 0.]]), array([[0., 0., 0., 0.]]), array([[0., 0., 0., 0.]]), array([[0., 0., 0., 0.]]), array([[0., 0., 0., 0.]]), array([[0., 0., 0., 0.]]), array([[0., 0., 0., 0.]]), array([[0., 0., 0., 0.]]), array([[0., 0., 0., 0.]]), array([[0., 0., 0., 0.]]), array([[0.7524898, 0.2524898, 0.       , 0.       ]]), array([[0., 0., 0., 0.]]), array([[0., 0., 0., 0.]]), array([[0., 0., 0., 0.]]), array([[0., 0., 0., 0.]]), array([[0., 0., 0., 0.]]), array([[0., 0., 0., 0.]]), array([[0., 0., 0., 0.]]), array([[0., 0., 0., 0.]]), array([[0., 0., 0., 0.]]), array([[0., 0., 0., 0.]]), array([[0., 0., 0., 0.]]), array([[0., 0., 0., 0.]]), array([[0., 0., 0., 0.]]), array([[0., 0., 0., 0.]]), array([[0., 0., 0., 0.]]), array([[0., 0., 0., 0.]]), array([[0., 0., 0., 0.]]), array([[0., 0., 0., 0.]]), array([[0., 0., 0., 0.]]), array([[0., 0., 0., 0.]]), array([[0., 0., 0., 0.]]), array([[0., 0., 0., 0.]]), array([[0., 0., 0., 0.]]), array([[0., 0., 0., 0.]]), array([[0., 0., 0., 0.]]), array([[0., 0., 0., 0.]]), array([[0., 0., 0., 0.]]), array([[0., 0., 0., 0.]]), array([[0., 0., 0., 0.]]), array([[0., 0., 0., 0.]]), array([[0., 0., 0., 0.]]), array([[0., 0., 0., 0.]]), array([[0., 0., 0., 0.]]), array([[0., 0., 0., 0.]]), array([[0., 0., 0., 0.]]), array([[0., 0., 0., 0.]]), array([[0., 0., 0., 0.]]), array([[0., 0., 0., 0.]]), array([[0., 0., 0., 0.]]), array([[0., 0., 0., 0.]]), array([[0., 0., 0., 0.]]), array([[0., 0., 0., 0.]]), array([[0., 0., 0., 0.]]), array([[0., 0., 0., 0.]]), array([[0., 0., 0., 0.]]), array([[0., 0., 0., 0.]]), array([[0., 0., 0., 0.]]), array([[0., 0., 0., 0.]]), array([[0., 0., 0., 0.]]), array([[0., 0., 0., 0.]]), array([[0., 0., 0., 0.]]), array([[0., 0., 0., 0.]]), array([[0., 0., 0., 0.]]), array([[0., 0., 0., 0.]]), array([[0., 0., 0., 0.]]), array([[0.7592482, 0.2592482, 0.       , 0.       ]]), array([[0., 0., 0., 0.]]), array([[ 1.  ,  0.5 , -1.75, -4.75]]), array([[0., 0., 0., 0.]]), array([[0., 0., 0., 0.]]), array([[0., 0., 0., 0.]]), array([[0., 0., 0., 0.]]), array([[0., 0., 0., 0.]]), array([[0., 0., 0., 0.]]), array([[0., 0., 0., 0.]]), array([[0., 0., 0., 0.]]), array([[0., 0., 0., 0.]]), array([[0., 0., 0., 0.]]), array([[0., 0., 0., 0.]]), array([[0., 0., 0., 0.]]), array([[0., 0., 0., 0.]]), array([[-1.  ,  4.5 ,  0.75,  0.75]]), array([[0., 0., 0., 0.]]), array([[-1.  ,  4.5 ,  7.75,  4.75]]), array([[-1.  ,  5.5 ,  2.75,  6.75]]), array([[-1.  ,  8.5 ,  4.75,  6.75]]), array([[-1.  , -0.5 ,  6.75,  4.75]]), array([[-1.  ,  3.5 ,  1.75,  4.75]]), array([[-1.  ,  8.5 ,  5.75,  7.75]]), array([[-1.  ,  4.5 ,  5.75,  2.75]]), array([[-1.  ,  9.5 ,  7.75,  8.75]]), array([[-1.  ,  4.5 , -0.25,  1.75]]), array([[-1.  , -0.5 ,  6.75,  8.75]]), array([[-1.  ,  6.5 ,  2.75,  8.75]]), array([[-1.  ,  6.5 , -0.25,  0.75]]), array([[-1.  ,  8.5 ,  7.75,  3.75]]), array([[-1.  ,  1.5 ,  7.75,  6.75]]), array([[-1.  ,  6.5 ,  1.75,  6.75]]), array([[-1.  ,  7.5 ,  4.75,  1.75]]), array([[-1.  ,  7.5 ,  7.75,  3.75]]), array([[-1.  ,  0.5 ,  6.75,  2.75]]), array([[-1.  ,  7.5 ,  2.75,  1.75]]), array([[-1.  ,  4.5 ,  9.75,  9.75]]), array([[-1.  ,  4.5 ,  3.75,  5.75]]), array([[-1.  ,  5.5 , -0.25,  5.75]]), array([[-1.  ,  8.5 ,  1.75,  1.75]]), array([[-1.  ,  9.5 ,  0.75,  1.75]]), array([[-1.  ,  3.5 ,  9.75,  4.75]]), array([[-1.  ,  1.5 ,  9.75,  0.75]]), array([[-0.2475102, -0.2475102,  6.75     ,  1.75     ]]), array([[-1.  ,  3.5 ,  4.75,  3.75]]), array([[-1.  ,  2.5 ,  4.75,  3.75]]), array([[-1.  ,  9.5 ,  0.75,  9.75]]), array([[-1.  ,  2.5 ,  9.75,  3.75]]), array([[-1.  ,  9.5 ,  5.75,  7.75]]), array([[-1.  ,  5.5 , -0.25,  8.75]]), array([[-1.  ,  8.5 ,  9.75,  7.75]]), array([[-1.  ,  7.5 ,  5.75,  3.75]]), array([[-1.  ,  8.5 ,  0.75,  2.75]]), array([[-1.  ,  3.5 , -0.25,  0.75]]), array([[-1.  ,  3.5 ,  0.75,  2.75]]), array([[-1.  ,  6.5 ,  7.75, -0.25]]), array([[-1.  ,  3.5 ,  5.75,  0.75]]), array([[-1.  ,  7.5 ,  2.75, -0.25]]), array([[-1.  ,  4.5 ,  7.75, -0.25]]), array([[-1.  ,  8.5 ,  5.75,  5.75]]), array([[-1.  ,  5.5 ,  7.75,  4.75]]), array([[-1.  , -0.5 ,  7.75,  3.75]]), array([[-1.  ,  5.5 ,  0.75,  2.75]]), array([[-1.  ,  0.5 ,  0.75,  4.75]]), array([[-1.  ,  0.5 ,  4.75,  6.75]]), array([[-1.  ,  9.5 ,  6.75,  0.75]]), array([[-1.  ,  4.5 ,  5.75,  5.75]]), array([[-1.  ,  4.5 ,  0.75,  3.75]]), array([[-1.  , -0.5 ,  9.75,  9.75]]), array([[-1.  ,  2.5 ,  8.75,  4.75]]), array([[-1.  ,  4.5 ,  6.75,  6.75]]), array([[-1.  ,  1.5 ,  2.75, -0.25]]), array([[-1.  ,  4.5 ,  6.75,  0.75]]), array([[-1.  ,  0.5 ,  6.75,  6.75]]), array([[-1.  , -0.5 ,  2.75,  9.75]]), array([[-1.  ,  2.5 ,  8.75,  3.75]]), array([[-1.  ,  4.5 ,  9.75,  7.75]]), array([[-1.  ,  4.5 ,  5.75,  7.75]]), array([[-1.  ,  6.5 ,  9.75,  1.75]]), array([[-1.  , -0.5 ,  4.75,  7.75]]), array([[-1.  ,  2.5 ,  4.75,  0.75]]), array([[-1.  ,  2.5 ,  5.75,  8.75]]), array([[-1.  ,  7.5 ,  6.75,  0.75]]), array([[-1.  , -0.5 ,  9.75,  3.75]]), array([[-1.  ,  0.5 ,  0.75,  1.75]]), array([[-1.  ,  8.5 ,  2.75, -0.25]]), array([[-1.  ,  9.5 ,  1.75,  0.75]]), array([[-1.  ,  6.5 ,  3.75,  3.75]]), array([[-1.  ,  0.5 , -0.25,  3.75]]), array([[-1.  ,  7.5 ,  0.75,  7.75]]), array([[-1.  ,  3.5 ,  8.75,  5.75]]), array([[-1.  ,  1.5 ,  4.75,  3.75]]), array([[-1.  ,  6.5 ,  0.75,  0.75]]), array([[-1.  ,  4.5 ,  3.75,  1.75]]), array([[-1.  ,  8.5 ,  3.75,  3.75]]), array([[-1.  ,  8.5 ,  5.75,  7.75]]), array([[-1.  ,  7.5 ,  1.75,  1.75]]), array([[-1.  ,  8.5 ,  6.75,  1.75]]), array([[-1.  ,  4.5 ,  9.75,  9.75]]), array([[-0.2407518, -0.2407518,  1.75     ,  6.75     ]]), array([[-1.  ,  0.5 , -0.25,  1.75]]), array([[0., 0., 0., 0.]]), array([[-1.  ,  7.5 ,  3.75,  6.75]]), array([[-1.  ,  2.5 ,  5.75,  0.75]]), array([[-1.  ,  7.5 ,  1.75,  6.75]]), array([[-1.  ,  7.5 ,  5.75,  4.75]]), array([[-1.  ,  8.5 ,  3.75,  4.75]]), array([[-1.  ,  3.5 ,  1.75,  6.75]]), array([[-1.  ,  1.5 , -0.25,  0.75]]), array([[-1.  ,  1.5 ,  5.75,  9.75]]), array([[-1.  ,  4.5 ,  8.75,  7.75]]), array([[-1.  ,  0.5 ,  3.75,  2.75]]), array([[-1.  ,  4.5 ,  0.75,  2.75]]), array([[-1.  ,  6.5 ,  4.75,  3.75]]), array([[-1.  ,  1.5 ,  9.75,  1.75]]), array([[ 0., -1., -1., -1.]]), array([[0.     , 0.1073 , 0.07415, 0.0627 ]]), array([[1., 0., 0., 0.],\n",
      "       [0., 1., 0., 0.],\n",
      "       [0., 0., 1., 0.],\n",
      "       [0., 0., 0., 1.]])]\n",
      "   lagrangian_grad: array([ 3.10848885e-09,  5.78160147e-09,  1.14905700e-08, -3.67810147e-09])\n",
      "           message: '`xtol` termination condition is satisfied.'\n",
      "            method: 'tr_interior_point'\n",
      "              nfev: 1615\n",
      "              nhev: 0\n",
      "               nit: 366\n",
      "             niter: 366\n",
      "              njev: 323\n",
      "        optimality: 1.1490570023926042e-08\n",
      "            status: 2\n",
      "           success: True\n",
      "         tr_radius: 4.55308577429943e-09\n",
      "                 v: [array([-0.74678822]), array([-6.15865142e-09]), array([-0.73295867]), array([-0.56383433]), array([-0.72927503]), array([-0.77639527]), array([-0.5087825]), array([-0.78717469]), array([-0.85890975]), array([-0.58490192]), array([-0.56261655]), array([-0.53792662]), array([-0.71338202]), array([-0.41246042]), array([-0.56997483]), array([-0.72451634]), array([-0.20522175]), array([-0.74800791]), array([-0.36371915]), array([-0.59127907]), array([-0.48862311]), array([-0.4752086]), array([-0.37454208]), array([-0.22329035]), array([-0.85898281]), array([-0.39327183]), array([-0.62951661]), array([-0.42243673]), array([2630049.12197207]), array([-0.79112725]), array([-0.57231499]), array([-0.33338123]), array([-0.54803347]), array([-0.65242922]), array([-0.79580449]), array([-0.62044482]), array([-0.73044212]), array([-0.46943835]), array([-0.77312442]), array([-0.61379553]), array([-0.49021337]), array([-0.61513853]), array([-0.68228965]), array([-0.4767228]), array([-0.56467503]), array([-0.45486498]), array([-0.73820849]), array([-0.53597612]), array([-0.55832398]), array([-0.53565224]), array([-0.68724633]), array([-0.50956244]), array([-0.62664957]), array([-0.67980677]), array([-0.59350476]), array([-0.55524841]), array([-1.07590302]), array([-0.43632915]), array([-0.52117796]), array([-0.31303093]), array([-0.5949448]), array([-0.55900432]), array([-0.66171408]), array([-0.69190212]), array([-0.56361578]), array([-0.5421832]), array([-0.68882498]), array([-0.57587767]), array([-0.46717261]), array([-5.53234713]), array([-0.51262112]), array([-0.60909975]), array([-0.62213071]), array([-2.17617189]), array([-0.61001931]), array([-0.65565045]), array([-0.50072628]), array([-0.56492787]), array([-0.42808793]), array([-0.6345651]), array([-0.24811154]), array([-0.7681992]), array([-0.50344173]), array([-0.62248215]), array([15124.5964601]), array([-1.0642224]), array([-1.36529871e-08]), array([-0.48392558]), array([-0.49106167]), array([-0.61476893]), array([-0.60035986]), array([-0.71048145]), array([-0.54920895]), array([-1.02503535]), array([-0.59196459]), array([-0.55850163]), array([-0.5948206]), array([-0.57546618]), array([-0.58718317]), array([-0.58688292]), array([-4.39564231e-10]), array([-0.5830937]), array([6.43034327e-11]), array([-9.69647086e-10]), array([-5.93498359e-10]), array([-6.7668422e-09]), array([-3.92132698e-10]), array([2.70600596e-10]), array([-1.01455665e-10]), array([1.97312654e-10]), array([-7.92127405e-10]), array([-2.51004484e-09]), array([-3.5224979e-10]), array([-9.76704617e-10]), array([-8.93690056e-10]), array([-1.69108755e-09]), array([-7.63588103e-10]), array([-5.70218675e-10]), array([-3.95567384e-10]), array([-1.03621987e-09]), array([3.68180604e-10]), array([4.81504418e-11]), array([-1.14198497e-09]), array([-6.23566932e-10]), array([-3.70989323e-10]), array([-7.89182557e-10]), array([-1.29692073e-09]), array([-1.28220698e-09]), array([96019.11502035]), array([-1.63721728e-11]), array([-1.15231033e-09]), array([-5.79042978e-10]), array([-5.17387628e-10]), array([-1.86999897e-10]), array([-4.04764303e-11]), array([8.95655145e-10]), array([-9.03086856e-10]), array([-1.96809459e-10]), array([-1.66788042e-09]), array([-1.22252406e-09]), array([-7.75410916e-10]), array([-1.05759439e-09]), array([-1.07236175e-11]), array([-1.88443922e-10]), array([-1.82439143e-10]), array([-1.92886949e-10]), array([-7.69187386e-09]), array([-8.84932526e-10]), array([-6.73317646e-09]), array([-1.27990112e-09]), array([3.15239704e-09]), array([-8.86098551e-10]), array([-5.24651425e-10]), array([-2.1226894e-09]), array([-6.66275148e-10]), array([2.45188981e-10]), array([-2.24565725e-09]), array([-3.20902737e-10]), array([-2.60912062e-09]), array([-3.11330935e-09]), array([7.81885437e-12]), array([-2.58530678e-10]), array([-4.46413701e-11]), array([-1.04401618e-09]), array([-3.40023701e-09]), array([-1.39938428e-09]), array([-3.32446125e-10]), array([-5.71758532e-10]), array([-6.75004503e-09]), array([-6.37913982e-09]), array([-7.865509e-10]), array([-9.85308506e-10]), array([-4.8295305e-10]), array([-6.18360077e-09]), array([-5.43299312e-12]), array([-8.69439788e-10]), array([-2.16913631e-09]), array([-7.15663744e-10]), array([-5.16785226e-10]), array([-8.32757649e-10]), array([-9.45556602e-11]), array([-7.32962236e-10]), array([-5.54355734e-10]), array([-2.73071009e-10]), array([235943.22150309]), array([-1.92675687e-08]), array([-14.78548757]), array([-6.58776279e-10]), array([-1.4502114e-09]), array([-7.82218846e-11]), array([9.82232369e-11]), array([2.94279886e-11]), array([-2.65944619e-10]), array([-2.44585501e-09]), array([-8.11346963e-10]), array([1.34194282e-10]), array([-2.71701643e-09]), array([2.42546116e-10]), array([-1.05543284e-10]), array([-1.07452076e-09]), array([4737153.02825814]), array([-3963272.24113952]), array([ 0.00000000e+00,  1.11949139e-08, -1.83699600e-08, -2.82126305e-08])]\n",
      "                 x: array([0.39196274, 0.81221837, 0.09389082, 0.09389082]) \n",
      "\n",
      "Function finale :  3642795.0242361464\n",
      "Function de perte finale :  364.2794632273409\n",
      "Gamma final :  0.391962740434726\n",
      "1 - Répartition obtenue :  -2.268472937272392e-09\n",
      "Rendement final :  0.09999998935511947\n",
      "Rendement final - Rendement espéré :   -1.064488053259538e-08 \n",
      "\n",
      "temps d'exécution 39.67219090461731 secondes\n"
     ]
    }
   ],
   "source": [
    "tps1 = time.time()\n",
    "\n",
    "print('Function initale : ', func_minimise_ES(X))\n",
    "#print('VaR initial VaR : ', calculatePortfolioVaR(X, alpha))\n",
    "print('Function de perte initial : ', loose_function(X))\n",
    "print('Gamma initial : ', X[0])\n",
    "print('1 - Répartition initiale : ', constraint3(X))\n",
    "print('Rendement initial : ', calculatePortfolioRendement(X))\n",
    "print('Rendement initial - Rendement espéré : ', minimise_ES_constraint4(X), '\\n')\n",
    "\n",
    "\n",
    "\n",
    "# constraints\n",
    "Const1 = [] # S*contrainte \n",
    "Const2 = [] # S*contrainte\n",
    "for i in range(S):\n",
    "    Const1.append({'type':'ineq','args' : (i,) , 'fun': constraint1})\n",
    "    Const2.append({'type':'ineq','args' : (i,)  , 'fun': constraint2}) \n",
    "\n",
    "ineq_cons = []\n",
    "ineq_cons = (Const1 + Const2 + [{'type':'eq','fun': constraint3}, {'type':'ineq','fun': minimise_ES_constraint4}])\n",
    "\n",
    "\n",
    "# bonds xxx\n",
    "bond = (0, 1.0)\n",
    "ineq_bond = ((None, None),)\n",
    "for i in range(Nb_Assets):\n",
    "    ineq_bond = ineq_bond + (bond,) # x1 >= 0, x2 >= 0, ...\n",
    "\n",
    "\n",
    "sol = minimize(func_minimise_ES,\n",
    "               x0=X, \n",
    "               method='trust-constr',  # quand S petit, utiliser 'SLSQP' \n",
    "               bounds=ineq_bond, \n",
    "               options={'disp': True},\n",
    "               constraints=ineq_cons)\n",
    "print(sol, '\\n')\n",
    "Res = sol.x\n",
    "\n",
    "print('Function finale : ', func_minimise_ES(Res))\n",
    "#print('VaR final VaR : ', calculatePortfolioVaR(Res, alpha))\n",
    "print('Function de perte finale : ', loose_function(Res))\n",
    "print('Gamma final : ', Res[0])\n",
    "print('1 - Répartition obtenue : ', constraint3(Res))\n",
    "print('Rendement final : ', calculatePortfolioRendement(Res))\n",
    "print('Rendement final - Rendement espéré :  ', minimise_ES_constraint4(Res), '\\n')\n",
    "\n",
    "tps2 = time.time()\n",
    "print('temps d\\'exécution', tps2 - tps1, 'secondes')"
   ]
  },
  {
   "cell_type": "markdown",
   "metadata": {},
   "source": [
    "## Partie 3\n",
    "\n",
    "Considérons le modèle de Markowitz maximisant le rendement du portefeuille et assurant une CVaR  ne dépassant pas un certain seuil.  \n",
    "Ecrire le modèle correspondant et le résoudre pour certaines données aléatoires. "
   ]
  },
  {
   "cell_type": "markdown",
   "metadata": {},
   "source": [
    "<img src=\"pics\\Partie 3.png\" width=\"494\" />"
   ]
  },
  {
   "cell_type": "code",
   "execution_count": 25,
   "metadata": {},
   "outputs": [],
   "source": [
    "from scipy.optimize import linprog"
   ]
  },
  {
   "cell_type": "code",
   "execution_count": 27,
   "metadata": {},
   "outputs": [],
   "source": [
    "# Définition des nouvelles varibales \n",
    "\n",
    "J = np.array([0, 0.50, 0.25, 0.25]) # Ensemble d'indices sur les différentes valeurs disponibles\n",
    "U = np.array([0, 1, 3, 4 ]) # Risque maximal toléré pour une valeur Alpha j"
   ]
  },
  {
   "cell_type": "code",
   "execution_count": 28,
   "metadata": {},
   "outputs": [],
   "source": [
    "# X[0] Gamma, X[1...N] Actifs risqués \n",
    "def func_maximise_yield(X):\n",
    "    rendement = 0\n",
    "    for i in range(1,X.size):\n",
    "        rendement += X[i]*E[i]\n",
    "    return rendement"
   ]
  },
  {
   "cell_type": "code",
   "execution_count": 29,
   "metadata": {},
   "outputs": [],
   "source": [
    "# S fois cette contrainte\n",
    "def maximise_yield_constraint1(X,alpha_j):\n",
    "    sum = 0\n",
    "    for i in range(S):\n",
    "        loose_function = 0\n",
    "        for j in range (1, X.size):\n",
    "            loose_function = loose_function + max(((b[j]-Y[i])*X[j]-X[0]),0)\n",
    "            \n",
    "    return U[alpha_j] - (X[0] + (1/(1-alpha)*S)*loose_function) "
   ]
  },
  {
   "cell_type": "code",
   "execution_count": 47,
   "metadata": {},
   "outputs": [
    {
     "name": "stdout",
     "output_type": "stream",
     "text": [
      "Iteration limit reached    (Exit mode 9)\n",
      "            Current function value: 0.0042663511016504865\n",
      "            Iterations: 100\n",
      "            Function evaluations: 1280\n",
      "            Gradient evaluations: 99\n",
      "     fun: 0.0042663511016504865\n",
      "     jac: array([0.     , 0.1073 , 0.00415, 0.0627 , 0.1045 , 0.1235 ])\n",
      " message: 'Iteration limit reached'\n",
      "    nfev: 1280\n",
      "     nit: 100\n",
      "    njev: 99\n",
      "  status: 9\n",
      " success: False\n",
      "       x: array([9.98525120e+00, 2.50350475e-06, 9.98014869e-01, 1.98275174e-03,\n",
      "       1.66979327e-08, 3.96356454e-09]) \n",
      "\n"
     ]
    }
   ],
   "source": [
    "# constraints\n",
    "Max_Const1 = [] # S*contrainte \n",
    "Max_Const2 = [] # S*contrainte \n",
    "Max_Const3 = [] # S*contrainte\n",
    "\n",
    "for i in range(1, J.size):\n",
    "    Max_Const1.append({'type':'ineq','args' : (i,) , 'fun': maximise_yield_constraint1})\n",
    "        \n",
    "for i in range(S):\n",
    "    Max_Const2.append({'type':'ineq','args' : (i,)  , 'fun': constraint2})\n",
    "    Max_Const3.append({'type':'ineq','args' : (i,)  , 'fun': constraint2})\n",
    "\n",
    "Max_ineq_cons = []\n",
    "Max_ineq_cons = (Max_Const1 + Max_Const2 + Max_Const3 +[{'type':'eq','fun': constraint3}])\n",
    "             \n",
    "\n",
    "\n",
    "# bonds \n",
    "bond = (0, 1.0)\n",
    "Max_ineq_bond = ((None, None),)\n",
    "for i in range(Nb_Assets):\n",
    "    Max_ineq_bond = Max_ineq_bond + (bond,) # x1 >= 0, x2 >= 0, ...\n",
    "\n",
    "\n",
    "sol = minimize(func_maximise_yield,\n",
    "               x0=X, \n",
    "               method='SLSQP',  # Il faut trouver la bonne méthode\n",
    "               bounds=Max_ineq_bond, \n",
    "               options={'disp': True},\n",
    "               constraints=Max_ineq_cons)\n",
    "print(sol, '\\n')"
   ]
  },
  {
   "cell_type": "code",
   "execution_count": null,
   "metadata": {},
   "outputs": [],
   "source": []
  }
 ],
 "metadata": {
  "kernelspec": {
   "display_name": "Python 3",
   "language": "python",
   "name": "python3"
  },
  "language_info": {
   "codemirror_mode": {
    "name": "ipython",
    "version": 3
   },
   "file_extension": ".py",
   "mimetype": "text/x-python",
   "name": "python",
   "nbconvert_exporter": "python",
   "pygments_lexer": "ipython3",
   "version": "3.7.1"
  }
 },
 "nbformat": 4,
 "nbformat_minor": 2
}
