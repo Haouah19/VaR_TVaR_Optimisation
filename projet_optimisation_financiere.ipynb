{
 "cells": [
  {
   "cell_type": "markdown",
   "metadata": {},
   "source": [
    "## Partie 1\n",
    "Implémenter la méthode des treillis pour le calcul des prix d’options (pour les différents types d’options). \n",
    "On testera la méthode sur différentes instances en faisant varier les paramètres (N : le nombre de périodes, r : taux de crédit, d et u). \n",
    "On essayera de considérer aussi des instances assez larges. "
   ]
  },
  {
   "cell_type": "code",
   "execution_count": 1,
   "metadata": {},
   "outputs": [],
   "source": [
    "import matplotlib.pyplot as plt\n",
    "import numpy as np"
   ]
  },
  {
   "cell_type": "code",
   "execution_count": 2,
   "metadata": {},
   "outputs": [],
   "source": [
    "def assetTreeValue(n, S, u, d):  \n",
    "    asset = np.zeros((n+1,n+1))\n",
    "    asset[0,0] = S\n",
    "    for i in range(1,n+1):\n",
    "        asset[i,0] = asset[i-1,0]*u\n",
    "        for j in range(1,i+1):\n",
    "            asset[i,j] = asset[i-1,j-1]*d\n",
    "    return asset    "
   ]
  },
  {
   "cell_type": "code",
   "execution_count": 3,
   "metadata": {},
   "outputs": [],
   "source": [
    "def calculationOptionPrice(n, assetValue, K, r, u, d, PutCall, optiontype):\n",
    "    value = np.zeros((n+1,n+1))\n",
    "    proba = (1+r-d)/(u-d)\n",
    "    \n",
    "    for j in range(n+1):\n",
    "        if PutCall==\"C\": # Call\n",
    "            payoff = max(0, (assetValue[n,j]-K))\n",
    "            value[n,j] = payoff\n",
    "        elif PutCall==\"P\": #Put\n",
    "            print(j)\n",
    "            payoff = max(0, (K-assetValue[n,j]))\n",
    "            value[n,j] = payoff\n",
    "    \n",
    "    if optiontype == \"USA\":\n",
    "         for i in range(n-1,-1,-1):\n",
    "            for j in range(i+1):\n",
    "                if PutCall==\"P\":\n",
    "                    value[i,j] = max(0, K-assetValue[i,j], (1/1+r)*(proba*value[i+1,j]+(1-proba)*value[i+1,j+1]))\n",
    "                elif PutCall==\"C\":\n",
    "                    value[i,j] = max(0, assetValue[i,j]-K, (1/1+r)*(proba*value[i+1,j]+(1-proba)*value[i+1,j+1]))\n",
    "    \n",
    "    if optiontype == \"EUR\":\n",
    "         for i in range(n-1,-1,-1):\n",
    "            for j in range(i+1):\n",
    "                value[i,j] = (1/1+r)*(proba*value[i+1,j]+(1-proba)*value[i+1,j+1])\n",
    "                    \n",
    "    return value"
   ]
  },
  {
   "cell_type": "code",
   "execution_count": 4,
   "metadata": {},
   "outputs": [
    {
     "name": "stdout",
     "output_type": "stream",
     "text": [
      "[[100.   0.   0.]\n",
      " [110.  90.   0.]\n",
      " [121.  99.  81.]] \n",
      "\n",
      "[[21.9121875  0.         0.       ]\n",
      " [25.725      6.3        0.       ]\n",
      " [30.         8.         0.       ]] \n",
      "\n",
      "Option value :  21.91218750000002\n"
     ]
    }
   ],
   "source": [
    "asset = assetTreeValue(2, 100, 1.1, 0.9)\n",
    "optionvalue = calculationOptionPrice(2, asset, 91, 0.05, 1.1, 0.9, \"C\", \"EUR\")\n",
    "\n",
    "print(asset, '\\n')\n",
    "print(optionvalue, '\\n')\n",
    "print('Option value : ', optionvalue[0][0])"
   ]
  },
  {
   "cell_type": "markdown",
   "metadata": {},
   "source": [
    "## Partie 2\n",
    "Ecrire le modèle qui permet de minimiser la CVaR pour une probabilité donnée  (On donne le modèle général avec un nombre d’actifs n, un nombre de scénarios S, un vecteur rendement  et un rendement minimum R. "
   ]
  },
  {
   "cell_type": "markdown",
   "metadata": {},
   "source": [
    "<img src=\"pics\\Partie 2.png\" width=\"480\" />"
   ]
  },
  {
   "cell_type": "code",
   "execution_count": 5,
   "metadata": {},
   "outputs": [],
   "source": [
    "from scipy.optimize import minimize"
   ]
  },
  {
   "cell_type": "code",
   "execution_count": 6,
   "metadata": {},
   "outputs": [],
   "source": [
    "# X[0] Gamma, X[1...N] Actifs risqués \n",
    "def func_minimise_ES(X):\n",
    "    sum = 0\n",
    "    loose_function = 0\n",
    "    for i in range(S):\n",
    "        for j in range (1, X.size):\n",
    "            loose_function = loose_function + max(((b[j]-Y[i])*X[j]-X[0]),0)\n",
    "    return X[0] + (1/(1-alpha)*S)*loose_function"
   ]
  },
  {
   "cell_type": "code",
   "execution_count": 7,
   "metadata": {},
   "outputs": [],
   "source": [
    "# S fois cette contrainte\n",
    "def constraint1(X,s):\n",
    "    sum = 0\n",
    "    for j in range (1,X.size):\n",
    "        sum = sum + (b[j]-Y[s])*X[j]\n",
    "        \n",
    "    return max((sum-X[0]),0) - (sum-X[0])"
   ]
  },
  {
   "cell_type": "code",
   "execution_count": 8,
   "metadata": {},
   "outputs": [],
   "source": [
    "# S fois cette contrainte\n",
    "def constraint2(X,s):\n",
    "    sum = 0\n",
    "    for j in range (1,X.size):\n",
    "        sum = sum + (b[j]-Y[s])*X[j]\n",
    "    \n",
    "    return max((sum-X[0]),0)-0"
   ]
  },
  {
   "cell_type": "code",
   "execution_count": 9,
   "metadata": {},
   "outputs": [],
   "source": [
    "def constraint3(X):\n",
    "    sum = 1\n",
    "    for i in range(1,X.size):\n",
    "        sum = sum - X[i]\n",
    "    \n",
    "    return sum\n"
   ]
  },
  {
   "cell_type": "code",
   "execution_count": 10,
   "metadata": {},
   "outputs": [],
   "source": [
    "def minimise_ES_constraint4(X):\n",
    "    sum = 0\n",
    "    for i in range(1,X.size):\n",
    "        sum += X[i]*E[i]\n",
    "        \n",
    "    return sum - R"
   ]
  },
  {
   "cell_type": "code",
   "execution_count": 11,
   "metadata": {},
   "outputs": [],
   "source": [
    "# Pour que la somme des X soit toujours un reel \n",
    "def constraint5(X):\n",
    "    return np.sum(np.iscomplex(X))"
   ]
  },
  {
   "cell_type": "markdown",
   "metadata": {},
   "source": [
    "#### Fonctions pour la compréhension logique : "
   ]
  },
  {
   "cell_type": "code",
   "execution_count": 12,
   "metadata": {},
   "outputs": [],
   "source": [
    "def calculatePortfolioRendement(X):\n",
    "    sum = 0\n",
    "    for i in range(1,X.size):\n",
    "        sum += X[i]*E[i]\n",
    "    return sum"
   ]
  },
  {
   "cell_type": "code",
   "execution_count": 13,
   "metadata": {},
   "outputs": [],
   "source": [
    "def loose_function(X):\n",
    "    loose_function = 0\n",
    "    for i in range(S):\n",
    "        for j in range (1, X.size):\n",
    "            loose_function = loose_function + max(((b[j]-Y[i])*X[j]-X[0]),0)\n",
    "    return loose_function"
   ]
  },
  {
   "cell_type": "markdown",
   "metadata": {},
   "source": [
    "#### Générateur de scénarios :"
   ]
  },
  {
   "cell_type": "code",
   "execution_count": 114,
   "metadata": {},
   "outputs": [],
   "source": [
    "import random as rd\n",
    "import matplotlib.pyplot as plt\n"
   ]
  },
  {
   "cell_type": "code",
   "execution_count": 71,
   "metadata": {},
   "outputs": [],
   "source": [
    "def generateY(S):\n",
    "    Y = []\n",
    "    for i in range(S):\n",
    "        Y.append(1/S) \n",
    "    return Y"
   ]
  },
  {
   "cell_type": "markdown",
   "metadata": {},
   "source": [
    "#### Calculer VaR initial (Test) :"
   ]
  },
  {
   "cell_type": "markdown",
   "metadata": {},
   "source": [
    "Méthode de Calcul de la Variance : https://blog.quantinsti.com/calculating-covariance-matrix-portfolio-variance/ <br>\n",
    "Expected portfolio variance = WT * (Covariance Matrix) * W\n",
    "<br>\n",
    "La matrice de covariance est donnée, par besoin de valeurs historiques"
   ]
  },
  {
   "cell_type": "code",
   "execution_count": 109,
   "metadata": {},
   "outputs": [],
   "source": [
    "def calculatePortfolioVariance(X):\n",
    "    assets = X\n",
    "    assets = np.delete(assets, 0)\n",
    "    variance = (assets)*Cov*(assets.reshape((-1, 1)))\n",
    "    return variance "
   ]
  },
  {
   "cell_type": "markdown",
   "metadata": {},
   "source": [
    "La volatilité du portefeuille est la racine carré de la variance :"
   ]
  },
  {
   "cell_type": "code",
   "execution_count": 110,
   "metadata": {},
   "outputs": [],
   "source": [
    "def calculatePortfolioVolatity(X):\n",
    "    variance = calculatePortfolioVariance(X)\n",
    "    variance = variance[0][0]\n",
    "    return mt.pow(variance, (0.5))"
   ]
  },
  {
   "cell_type": "markdown",
   "metadata": {},
   "source": [
    "Méthode de calcul de la VaR paramétrique : https://meritis.fr/vous-saurez-tout-sur-la-var/ <br>\n",
    "VaR = z*sigma - R <br>\n",
    "    - R : rentabilité du portefeuille\n",
    "    - z : interval de confiance de la loi normal obtenue grâce à norm\n",
    "    - sigma : volatility du portefeuille"
   ]
  },
  {
   "cell_type": "code",
   "execution_count": 117,
   "metadata": {},
   "outputs": [],
   "source": [
    "def calculatePortfolioVaR(X, alpha):\n",
    "    rend = calculatePortfolioRendement(X)\n",
    "    z = norm.ppf(1-alpha)\n",
    "    sigma = calculatePortfolioVolatity(X)\n",
    "    VaR_n = abs(z*sigma - rend)\n",
    "    return  round(VaR_n*100,2)"
   ]
  },
  {
   "cell_type": "markdown",
   "metadata": {},
   "source": [
    "#### Calculer CVaR initial (Test) :"
   ]
  },
  {
   "cell_type": "code",
   "execution_count": null,
   "metadata": {},
   "outputs": [],
   "source": []
  },
  {
   "cell_type": "markdown",
   "metadata": {},
   "source": [
    "### Exécution"
   ]
  },
  {
   "cell_type": "code",
   "execution_count": 91,
   "metadata": {},
   "outputs": [],
   "source": [
    "import math as mt\n",
    "from scipy.stats import norm\n",
    "import time"
   ]
  },
  {
   "cell_type": "markdown",
   "metadata": {},
   "source": [
    "#### General Informations : "
   ]
  },
  {
   "cell_type": "code",
   "execution_count": 92,
   "metadata": {},
   "outputs": [],
   "source": [
    "alpha = 0.99 # Probabilité\n",
    "R = 0.10 # Rentabilité"
   ]
  },
  {
   "cell_type": "markdown",
   "metadata": {},
   "source": [
    "#### Assets Informations :"
   ]
  },
  {
   "cell_type": "code",
   "execution_count": 102,
   "metadata": {},
   "outputs": [
    {
     "name": "stdout",
     "output_type": "stream",
     "text": [
      "Réparition des actifs (X[0] => Gamma) X:  [1.   0.25 0.5  0.25] \n",
      "\n",
      "Prix des obligations b :  [ 0 10 10 10] \n",
      "\n",
      "Espérance de rendement E :  [0.      0.1073  0.07415 0.0627 ] \n",
      "\n",
      "Covarinace des actifs Cov : [[ 0.02778  0.00387  0.00021]\n",
      " [ 0.00387  0.01112 -0.0002 ]\n",
      " [ 0.00021 -0.0002   0.00115]] \n",
      "\n"
     ]
    }
   ],
   "source": [
    "Nb_Assets = 3\n",
    "Valo = 10000 # fixe Valorisation fictive pour calculer la VaR fictive \n",
    "\n",
    "X = np.array([1, 0.25, 0.50, 0.25]) # Réparitition des actifs,  Attention : X[0] == gamma\n",
    "b = np.array([0, 10, 10, 10]) # Prix des obligations, b[0]=0 pour la fonction objective\n",
    "E = np.array([0, 0.1073, 0.07415, 0.0627]) # Espérence de rendement des actifs\n",
    "\n",
    "Cov = np.matrix([[0.02778, 0.00387, 0.00021], [0.00387, 0.01112, -0.00020], [0.00021, -0.00020, 0.00115] ])\n",
    "\n",
    "\n",
    "print('Réparition des actifs (X[0] => Gamma) X: ', X, '\\n')\n",
    "print('Prix des obligations b : ', b, '\\n')\n",
    "print('Espérance de rendement E : ', E, '\\n')\n",
    "print('Covarinace des actifs Cov :', Cov, '\\n')"
   ]
  },
  {
   "cell_type": "markdown",
   "metadata": {},
   "source": [
    "#### Scénarios Informations :"
   ]
  },
  {
   "cell_type": "code",
   "execution_count": 103,
   "metadata": {},
   "outputs": [
    {
     "name": "stdout",
     "output_type": "stream",
     "text": [
      "Vecteur de probabilité Y :  [0.2 0.2 0.2 0.2 0.2]\n"
     ]
    }
   ],
   "source": [
    "S = 5 # Nombre de scénarios\n",
    "Y = np.array(generateY(S)) # vecteur de probabilités\n",
    "print('Vecteur de probabilité Y : ', Y)"
   ]
  },
  {
   "cell_type": "markdown",
   "metadata": {},
   "source": [
    "#### Lancement :"
   ]
  },
  {
   "cell_type": "code",
   "execution_count": 118,
   "metadata": {},
   "outputs": [
    {
     "name": "stdout",
     "output_type": "stream",
     "text": [
      "Function initale :  17000.999999999985\n",
      "VaR initial VaR :  25.26\n",
      "Function de perte initial :  34.0\n",
      "Gamma initial :  1.0\n",
      "1 - Répartition initiale :  0.0\n",
      "Rendement initial :  0.079575\n",
      "Rendement initial - Rendement espéré :  -0.020425 \n",
      "\n",
      "`xtol` termination condition is satisfied.\n",
      "Number of iterations: 437, function evaluations: 2200, CG iterations: 531, optimality: 6.54e-01, constraint violation: 2.52e-17, execution time:  3.4 s.\n",
      " barrier_parameter: 2.048000000000001e-09\n",
      " barrier_tolerance: 2.048000000000001e-09\n",
      "          cg_niter: 531\n",
      "      cg_stop_cond: 2\n",
      "            constr: [array([0.]), array([0.]), array([0.]), array([0.]), array([0.]), array([1.90422342]), array([1.90422342]), array([1.90422342]), array([1.90422342]), array([1.90422342]), array([-2.51534904e-17]), array([4.86085095e-06]), array([7.89577658e+00, 7.80836123e-01, 2.16556313e-01, 2.60756426e-03])]\n",
      "       constr_nfev: [2200, 2200, 2200, 2200, 2200, 2200, 2200, 2200, 2200, 2200, 2200, 2200, 0]\n",
      "       constr_nhev: [0, 0, 0, 0, 0, 0, 0, 0, 0, 0, 0, 0, 0]\n",
      "       constr_njev: [0, 0, 0, 0, 0, 0, 0, 0, 0, 0, 0, 0, 0]\n",
      "    constr_penalty: 1.0\n",
      "  constr_violation: 2.5153490401663703e-17\n",
      "    execution_time: 3.4050848484039307\n",
      "               fun: 7.895776576449394\n",
      "              grad: array([1., 0., 0., 0.])\n",
      "               jac: [array([[0., 0., 0., 0.]]), array([[0., 0., 0., 0.]]), array([[0., 0., 0., 0.]]), array([[0., 0., 0., 0.]]), array([[0., 0., 0., 0.]]), array([[-1.        ,  9.80000007,  9.80000007,  9.79999995]]), array([[-1.        ,  9.80000007,  9.80000007,  9.79999995]]), array([[-1.        ,  9.80000007,  9.80000007,  9.79999995]]), array([[-1.        ,  9.80000007,  9.80000007,  9.79999995]]), array([[-1.        ,  9.80000007,  9.80000007,  9.79999995]]), array([[ 0., -1., -1., -1.]]), array([[0.     , 0.1073 , 0.07415, 0.0627 ]]), array([[1., 0., 0., 0.],\n",
      "       [0., 1., 0., 0.],\n",
      "       [0., 0., 1., 0.],\n",
      "       [0., 0., 0., 1.]])]\n",
      "   lagrangian_grad: array([ 0.44780248, -0.65441732, -0.57408794, -0.55731001])\n",
      "           message: '`xtol` termination condition is satisfied.'\n",
      "            method: 'tr_interior_point'\n",
      "              nfev: 2200\n",
      "              nhev: 0\n",
      "               nit: 437\n",
      "             niter: 437\n",
      "              njev: 440\n",
      "        optimality: 0.6544173193898869\n",
      "            status: 2\n",
      "           success: True\n",
      "         tr_radius: 2.8493240996730717e-09\n",
      "                 v: [array([-3.21975546e+14]), array([-8.9301308e+13]), array([-1.99558278e+13]), array([8.10098015e+13]), array([-9.75906989e+13]), array([0.10646547]), array([0.04685493]), array([0.10646547]), array([0.14620583]), array([0.14620583]), array([5.99014964]), array([-0.45642117]), array([ 0.        , -0.02682947,  0.03836955,  0.04992152])]\n",
      "                 x: array([7.89577658e+00, 7.80836123e-01, 2.16556313e-01, 2.60756426e-03]) \n",
      "\n",
      "Function finale :  7.895776576449394\n",
      "VaR final VaR :  41.87\n",
      "Function de perte finale :  0\n",
      "Gamma final :  7.895776576449394\n",
      "1 - Répartition obtenue :  -2.5153490401663703e-17\n",
      "Rendement final :  0.1000048608509479\n",
      "Rendement final - Rendement espéré :   4.8608509478909045e-06 \n",
      "\n",
      "temps d'exécution 3.4345309734344482 secondes\n"
     ]
    }
   ],
   "source": [
    "tps1 = time.time()\n",
    "\n",
    "print('Function initale : ', func_minimise_ES(X))\n",
    "print('VaR initial VaR : ', calculatePortfolioVaR(X, alpha))\n",
    "print('Function de perte initial : ', loose_function(X))\n",
    "print('Gamma initial : ', X[0])\n",
    "print('1 - Répartition initiale : ', constraint3(X))\n",
    "print('Rendement initial : ', calculatePortfolioRendement(X))\n",
    "print('Rendement initial - Rendement espéré : ', minimise_ES_constraint4(X), '\\n')\n",
    "\n",
    "\n",
    "\n",
    "# constraints\n",
    "Const1 = [] # S*contrainte \n",
    "Const2 = [] # S*contrainte\n",
    "for i in range(S):\n",
    "    Const1.append({'type':'ineq','args' : (i,) , 'fun': constraint1})\n",
    "    Const2.append({'type':'ineq','args' : (i,)  , 'fun': constraint2}) \n",
    "\n",
    "ineq_cons = []\n",
    "ineq_cons = (Const1 + Const2 + [{'type':'eq','fun': constraint3}, {'type':'ineq','fun': minimise_ES_constraint4}])\n",
    "\n",
    "\n",
    "# bonds \n",
    "bond = (0, 1.0)\n",
    "ineq_bond = ((None, None),)\n",
    "for i in range(Nb_Assets):\n",
    "    ineq_bond = ineq_bond + (bond,) # x1 >= 0, x2 >= 0, ...\n",
    "\n",
    "\n",
    "sol = minimize(func_minimise_ES,\n",
    "               x0=X, \n",
    "               method='trust-constr',  # quand S petit, utiliser 'SLSQP'\n",
    "               bounds=ineq_bond, \n",
    "               options={'disp': True},\n",
    "               constraints=ineq_cons)\n",
    "print(sol, '\\n')\n",
    "Res = sol.x\n",
    "\n",
    "print('Function finale : ', func_minimise_ES(Res))\n",
    "print('VaR final VaR : ', calculatePortfolioVaR(Res, alpha))\n",
    "print('Function de perte finale : ', loose_function(Res))\n",
    "print('Gamma final : ', Res[0])\n",
    "print('1 - Répartition obtenue : ', constraint3(Res))\n",
    "print('Rendement final : ', calculatePortfolioRendement(Res))\n",
    "print('Rendement final - Rendement espéré :  ', minimise_ES_constraint4(Res), '\\n')\n",
    "\n",
    "tps2 = time.time()\n",
    "print('temps d\\'exécution', tps2 - tps1, 'secondes')"
   ]
  },
  {
   "cell_type": "markdown",
   "metadata": {},
   "source": [
    "## Partie 3\n",
    "\n",
    "Considérons le modèle de Markowitz maximisant le rendement du portefeuille et assurant une CVaR  ne dépassant pas un certain seuil.  \n",
    "Ecrire le modèle correspondant et le résoudre pour certaines données aléatoires. "
   ]
  },
  {
   "cell_type": "markdown",
   "metadata": {},
   "source": [
    "<img src=\"pics\\Partie 3.png\" width=\"494\" />"
   ]
  },
  {
   "cell_type": "code",
   "execution_count": 26,
   "metadata": {},
   "outputs": [],
   "source": [
    "from scipy.optimize import linprog"
   ]
  },
  {
   "cell_type": "code",
   "execution_count": 27,
   "metadata": {},
   "outputs": [],
   "source": [
    "# Définition des nouvelles varibales \n",
    "\n",
    "J = np.array([0, 0.50, 0.25, 0.25]) # Ensemble d'indices sur les différentes valeurs disponibles\n",
    "U = np.array([0, 1, 3, 4 ]) # Risque maximal toléré pour une valeur Alpha j"
   ]
  },
  {
   "cell_type": "code",
   "execution_count": 28,
   "metadata": {},
   "outputs": [],
   "source": [
    "# X[0] Gamma, X[1...N] Actifs risqués \n",
    "def func_maximise_yield(X):\n",
    "    rendement = 0\n",
    "    for i in range(1,X.size):\n",
    "        rendement += X[i]*E[i]\n",
    "    return rendement"
   ]
  },
  {
   "cell_type": "code",
   "execution_count": 29,
   "metadata": {},
   "outputs": [],
   "source": [
    "# S fois cette contrainte\n",
    "def maximise_yield_constraint1(X,alpha_j):\n",
    "    sum = 0\n",
    "    for i in range(S):\n",
    "        loose_function = 0\n",
    "        for j in range (1, X.size):\n",
    "            loose_function = loose_function + max(((b[j]-Y[i])*X[j]-X[0]),0)\n",
    "            \n",
    "    return U[alpha_j] - (X[0] + (1/(1-alpha)*S)*loose_function) "
   ]
  },
  {
   "cell_type": "code",
   "execution_count": 47,
   "metadata": {},
   "outputs": [
    {
     "name": "stdout",
     "output_type": "stream",
     "text": [
      "Iteration limit reached    (Exit mode 9)\n",
      "            Current function value: 0.0042663511016504865\n",
      "            Iterations: 100\n",
      "            Function evaluations: 1280\n",
      "            Gradient evaluations: 99\n",
      "     fun: 0.0042663511016504865\n",
      "     jac: array([0.     , 0.1073 , 0.00415, 0.0627 , 0.1045 , 0.1235 ])\n",
      " message: 'Iteration limit reached'\n",
      "    nfev: 1280\n",
      "     nit: 100\n",
      "    njev: 99\n",
      "  status: 9\n",
      " success: False\n",
      "       x: array([9.98525120e+00, 2.50350475e-06, 9.98014869e-01, 1.98275174e-03,\n",
      "       1.66979327e-08, 3.96356454e-09]) \n",
      "\n"
     ]
    }
   ],
   "source": [
    "# constraints\n",
    "Max_Const1 = [] # S*contrainte \n",
    "Max_Const2 = [] # S*contrainte \n",
    "Max_Const3 = [] # S*contrainte\n",
    "\n",
    "for i in range(1, J.size):\n",
    "    Max_Const1.append({'type':'ineq','args' : (i,) , 'fun': maximise_yield_constraint1})\n",
    "        \n",
    "for i in range(S):\n",
    "    Max_Const2.append({'type':'ineq','args' : (i,)  , 'fun': constraint2})\n",
    "    Max_Const3.append({'type':'ineq','args' : (i,)  , 'fun': constraint2})\n",
    "\n",
    "Max_ineq_cons = []\n",
    "Max_ineq_cons = (Max_Const1 + Max_Const2 + Max_Const3 +[{'type':'eq','fun': constraint3}])\n",
    "             \n",
    "\n",
    "\n",
    "# bonds \n",
    "bond = (0, 1.0)\n",
    "Max_ineq_bond = ((None, None),)\n",
    "for i in range(Nb_Assets):\n",
    "    Max_ineq_bond = Max_ineq_bond + (bond,) # x1 >= 0, x2 >= 0, ...\n",
    "\n",
    "\n",
    "sol = minimize(func_maximise_yield,\n",
    "               x0=X, \n",
    "               method='SLSQP',  # Il faut trouver la bonne méthode\n",
    "               bounds=Max_ineq_bond, \n",
    "               options={'disp': True},\n",
    "               constraints=Max_ineq_cons)\n",
    "print(sol, '\\n')"
   ]
  },
  {
   "cell_type": "code",
   "execution_count": null,
   "metadata": {},
   "outputs": [],
   "source": []
  }
 ],
 "metadata": {
  "kernelspec": {
   "display_name": "Python 3",
   "language": "python",
   "name": "python3"
  },
  "language_info": {
   "codemirror_mode": {
    "name": "ipython",
    "version": 3
   },
   "file_extension": ".py",
   "mimetype": "text/x-python",
   "name": "python",
   "nbconvert_exporter": "python",
   "pygments_lexer": "ipython3",
   "version": "3.7.1"
  }
 },
 "nbformat": 4,
 "nbformat_minor": 2
}
