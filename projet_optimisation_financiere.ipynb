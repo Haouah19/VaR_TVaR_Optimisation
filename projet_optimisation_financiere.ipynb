{
 "cells": [
  {
   "cell_type": "markdown",
   "metadata": {},
   "source": [
    "## Partie 1\n",
    "Implémenter la méthode des treillis pour le calcul des prix d’options (pour les différents types d’options). \n",
    "On testera la méthode sur différentes instances en faisant varier les paramètres (N : le nombre de périodes, r : taux de crédit, d et u). \n",
    "On essayera de considérer aussi des instances assez larges. "
   ]
  },
  {
   "cell_type": "code",
   "execution_count": 4,
   "metadata": {},
   "outputs": [],
   "source": [
    "import matplotlib.pyplot as plt\n",
    "import numpy as np"
   ]
  },
  {
   "cell_type": "code",
   "execution_count": 5,
   "metadata": {},
   "outputs": [],
   "source": [
    "def assetTreeValue(n, S, u, d):  \n",
    "    asset = np.zeros((n+1,n+1))\n",
    "    asset[0,0] = S\n",
    "    for i in range(1,n+1):\n",
    "        asset[i,0] = asset[i-1,0]*u\n",
    "        for j in range(1,i+1):\n",
    "            asset[i,j] = asset[i-1,j-1]*d\n",
    "    return asset    "
   ]
  },
  {
   "cell_type": "code",
   "execution_count": 6,
   "metadata": {},
   "outputs": [],
   "source": [
    "def calculationOptionPrice(n, assetValue, K, r, u, d, PutCall, optiontype):\n",
    "    value = np.zeros((n+1,n+1))\n",
    "    proba = (1+r-d)/(u-d)\n",
    "    print('Probabilité Risque-neutre : ',proba)\n",
    "    \n",
    "    for j in range(n+1):\n",
    "        if PutCall==\"C\": # Call\n",
    "            payoff = max(0, (assetValue[n,j]-K))\n",
    "            value[n,j] = payoff\n",
    "        elif PutCall==\"P\": #Put\n",
    "            print(j)\n",
    "            payoff = max(0, (K-assetValue[n,j]))\n",
    "            value[n,j] = payoff\n",
    "    \n",
    "    if optiontype == \"USA\":\n",
    "         for i in range(n-1,-1,-1):\n",
    "            for j in range(i+1):\n",
    "                if PutCall==\"P\":\n",
    "                    value[i,j] = max(0, K-assetValue[i,j], (1/1+r)*(proba*value[i+1,j]+(1-proba)*value[i+1,j+1]))\n",
    "                elif PutCall==\"C\":\n",
    "                    value[i,j] = max(0, assetValue[i,j]-K, (1/1+r)*(proba*value[i+1,j]+(1-proba)*value[i+1,j+1]))\n",
    "    \n",
    "    if optiontype == \"EUR\":\n",
    "         for i in range(n-1,-1,-1):\n",
    "            for j in range(i+1):\n",
    "                value[i,j] = (1/1+r)*(proba*value[i+1,j]+(1-proba)*value[i+1,j+1])\n",
    "                    \n",
    "    return value"
   ]
  },
  {
   "cell_type": "code",
   "execution_count": 7,
   "metadata": {},
   "outputs": [],
   "source": [
    "# test de visualisation\n",
    "def drawAssetTree(n, asset):\n",
    "    positionX = np.zeros((n+1,n+1))\n",
    "    positionY = np.zeros((n+1,n+1))\n",
    "    positionX[0][0] = 0.10\n",
    "    positionY = 0.5\n",
    "    \n",
    "    plt.xlim(0,1) \n",
    "    plt.figtext(0.10,0.5,asset[0,0])\n",
    "    \n",
    "    for i in range(0,n+1):\n",
    "        for j in range(i):\n",
    "            plt.figtext(i-0.4,i+0.2,asset[i,j])\n",
    "            plt.annotate('',xy=(i-0.4,i+0.2), xytext=(0.10,0.5), arrowprops=dict(facecolor='g',shrink=0.01))\n",
    "\n",
    "    plt.axis('off')\n",
    "    plt.show()"
   ]
  },
  {
   "cell_type": "code",
   "execution_count": 8,
   "metadata": {},
   "outputs": [],
   "source": [
    "# test de visualisation\n",
    "def drawTree(n, asset):\n",
    "    plt.xlim(0,1) \n",
    "    plt.figtext(0.10,0.5,asset[0,0])\n",
    "    \n",
    "    plt.figtext(0.6,0.5+0.20,asset[1,0])\n",
    "    plt.figtext(0.6,0.5-0.20,asset[1,1])\n",
    "    \n",
    "    plt.annotate('',xy=(0.6,0.5+0.25), xytext=(0.1,0.5), arrowprops=dict(facecolor='g',shrink=0.01))\n",
    "    plt.annotate('',xy=(0.6,0.5-0.25), xytext=(0.1,0.5), arrowprops=dict(facecolor='g',shrink=0.01))\n",
    "    \n",
    "    plt.figtext(0.9,0.5+0.35,asset[2,0])\n",
    "    plt.figtext(0.9,0.5,asset[2,1])\n",
    "    plt.figtext(0.9,0.5-0.35,asset[2,2])\n",
    "    \n",
    "    plt.annotate('',xy=(0.9,0.5+0.40), xytext=(0.7,0.5+0.25), arrowprops=dict(facecolor='g',shrink=0.01))\n",
    "    plt.annotate('',xy=(0.9,0.5), xytext=(0.7,0.5+0.25), arrowprops=dict(facecolor='g',shrink=0.01))\n",
    "    \n",
    "    plt.annotate('',xy=(0.9,0.5), xytext=(0.7,0.5-0.25), arrowprops=dict(facecolor='g',shrink=0.01))\n",
    "    plt.annotate('',xy=(0.9,0.5-0.4), xytext=(0.7,0.5-0.25), arrowprops=dict(facecolor='g',shrink=0.01))\n",
    "    \n",
    "    plt.axis('off')\n",
    "    plt.show()"
   ]
  },
  {
   "cell_type": "code",
   "execution_count": 307,
   "metadata": {},
   "outputs": [
    {
     "name": "stdout",
     "output_type": "stream",
     "text": [
      "[[100.   0.   0.]\n",
      " [110.  90.   0.]\n",
      " [121.  99.  81.]]\n",
      " \n",
      "Probabilité Risque-neutre :  0.7499999999999999\n",
      " \n",
      "21.91218750000002\n"
     ]
    }
   ],
   "source": [
    "asset = assetTreeValue(2, 100, 1.1, 0.9)\n",
    "print(asset)\n",
    "print(' ')\n",
    "#drawTree(2, asset)\n",
    "optionvalue = calculationOptionPrice(2, asset, 91, 0.05, 1.1, 0.9, \"C\", \"EUR\")\n",
    "\n",
    "print(' ')\n",
    "print(optionvalue[0][0])\n",
    "#drawTree(2, optionvalue)"
   ]
  },
  {
   "cell_type": "markdown",
   "metadata": {},
   "source": [
    "## Partie 2\n",
    "Ecrire le modèle qui permet de minimiser la CVaR pour une probabilité donnée  (On donne le modèle général avec un nombre d’actifs n, un nombre de scénarios S, un vecteur rendement  et un rendement minimum R. "
   ]
  },
  {
   "cell_type": "markdown",
   "metadata": {},
   "source": [
    "<img src=\"pics\\Partie 2.png\" width=\"480\" />"
   ]
  },
  {
   "cell_type": "code",
   "execution_count": 316,
   "metadata": {},
   "outputs": [],
   "source": [
    "from scipy.optimize import minimize"
   ]
  },
  {
   "cell_type": "code",
   "execution_count": 324,
   "metadata": {},
   "outputs": [],
   "source": [
    "alpha = 0.99 # Porba\n",
    "S = 3 # Nombre de scénarios\n",
    "R = 0.10\n",
    "\n",
    "X = np.array([0, 0.50, 0.25, 0.25]) # Réparitition des actifs,  X[0] == gamma\n",
    "b = np.array([0, 20, 30, 25]) # Prix des obligations, b[0]=0 pour la fonction objective\n",
    "Y = np.array([0, 0.30, 0.30, 0.40]) # vecteur de probabilités\n",
    "E = np.array([0, 0.1073, 0.07415, 0.0627]) # Espérence de rendement des actifs"
   ]
  },
  {
   "cell_type": "code",
   "execution_count": 325,
   "metadata": {},
   "outputs": [],
   "source": [
    "# X[0] Gamma, X[1...N] Actifs risqués \n",
    "def func_minimise_ES(X):\n",
    "    sum = 0\n",
    "    for i in range(S):\n",
    "        loose_function = 0\n",
    "        for j in range (1, X.size):\n",
    "            loose_function = loose_function + max(((b[j]-Y[i])*X[j]-X[0]),0)\n",
    "            \n",
    "    return X[0] + (1/(1-alpha)*S)*loose_function"
   ]
  },
  {
   "cell_type": "code",
   "execution_count": 326,
   "metadata": {},
   "outputs": [],
   "source": [
    "# S fois cette contrainte\n",
    "def constraint1(X,s):\n",
    "    sum = 0\n",
    "    for j in range (1,X.size):\n",
    "        sum = sum + (b[j]-Y[s])*X[j]\n",
    "    return max((sum-X[0]),0) - (sum-X[0]) "
   ]
  },
  {
   "cell_type": "code",
   "execution_count": 327,
   "metadata": {},
   "outputs": [],
   "source": [
    "# S fois cette contrainte\n",
    "def constraint2(X,s):\n",
    "    sum = 0\n",
    "    for j in range (1,X.size):\n",
    "        sum = sum + (b[j]-Y[s])*X[j]\n",
    "    return max((sum-X[0]),0) "
   ]
  },
  {
   "cell_type": "code",
   "execution_count": 331,
   "metadata": {},
   "outputs": [],
   "source": [
    "def constraint3(X):\n",
    "    sum = 0\n",
    "    for i in range(1,X.size):\n",
    "        sum = sum + X[i]\n",
    "    return 1 - sum\n",
    "    "
   ]
  },
  {
   "cell_type": "code",
   "execution_count": 332,
   "metadata": {},
   "outputs": [],
   "source": [
    "def minimise_ES_constraint4(X):\n",
    "    sum = 0\n",
    "    for i in range(1,X.size):\n",
    "        sum += X[i]*E[i]\n",
    "    return sum - R \n",
    "    "
   ]
  },
  {
   "cell_type": "code",
   "execution_count": 333,
   "metadata": {},
   "outputs": [
    {
     "name": "stdout",
     "output_type": "stream",
     "text": [
      "     fun: 0.024448063789509637\n",
      "     jac: array([1.00000000e+00, 5.90882248e+03, 0.00000000e+00, 0.00000000e+00])\n",
      " message: 'Linear search failed'\n",
      "    nfev: 380\n",
      "     nit: 4\n",
      "  status: 4\n",
      " success: False\n",
      "       x: array([0.02444806, 0.00124102, 0.        , 0.        ])\n"
     ]
    }
   ],
   "source": [
    "# constraints\n",
    "ineq_cons = ([{'type':'ineq','fun': lambda i : constraint1(X,i)} for i in range(S)] +\n",
    "            [{'type':'ineq','fun': lambda i : constraint2(X,i)} for i in range(S)] +\n",
    "            [{'type':'eq','fun': constraint3}, {'type':'ineq','fun': minimise_ES_constraint4}])\n",
    "\n",
    "# bonds \n",
    "bond = (0, 1.0)\n",
    "ineq_bond = [(None,None)] + [(0,1.0) for i in range(X.size-1)] # x1 >= 0, x2 >= 0, ...\n",
    "\n",
    "\n",
    "# Ne fonctionne pas comme il le faut \n",
    "sol = minimize(func_minimise_ES,\n",
    "               x0=X, \n",
    "               method='TNC',  # Il faut trouver la bonne méthode\n",
    "               bounds=ineq_bond, \n",
    "               options={'disp': True},\n",
    "               constraints=ineq_cons)\n",
    "print(sol)"
   ]
  },
  {
   "cell_type": "markdown",
   "metadata": {},
   "source": [
    "## Partie 3 (à revoir)\n",
    "\n",
    "Considérons le modèle de Markowitz maximisant le rendement du portefeuille et assurant une CVaR  ne dépassant pas un certain seuil.  \n",
    "Ecrire le modèle correspondant et le résoudre pour certaines données aléatoires. "
   ]
  },
  {
   "cell_type": "markdown",
   "metadata": {},
   "source": [
    "<img src=\"pics\\Partie 3.png\" width=\"494\" />"
   ]
  },
  {
   "cell_type": "code",
   "execution_count": 357,
   "metadata": {},
   "outputs": [],
   "source": [
    "from scipy.optimize import linprog"
   ]
  },
  {
   "cell_type": "code",
   "execution_count": 347,
   "metadata": {},
   "outputs": [],
   "source": [
    "# Définition des nouvelles varibales \n",
    "\n",
    "J = np.array([0, 0.50, 0.25, 0.25]) # Ensemble d'indices sur les différentes valeurs disponibles\n",
    "U = np.array([0, 1, 3, 4 ]) # Risque maximal toléré pour une valeur Alpha j"
   ]
  },
  {
   "cell_type": "code",
   "execution_count": 348,
   "metadata": {},
   "outputs": [],
   "source": [
    "# X[0] Gamma, X[1...N] Actifs risqués \n",
    "def func_maximise_yield(X):\n",
    "    rendement = 0\n",
    "    for i in range(1,X.size):\n",
    "        rendement += X[i]*E[i]\n",
    "    return rendement"
   ]
  },
  {
   "cell_type": "code",
   "execution_count": 349,
   "metadata": {},
   "outputs": [],
   "source": [
    "# S fois cette contrainte\n",
    "def maximise_yield_constraint1(X,alpha_j):\n",
    "    sum = 0\n",
    "    for i in range(S):\n",
    "        loose_function = 0\n",
    "        for j in range (1, X.size):\n",
    "            loose_function = loose_function + max(((b[j]-Y[i])*X[j]-X[0]),0)\n",
    "            \n",
    "    return U[alpha_j] - (X[0] + (1/(1-alpha)*S)*loose_function) "
   ]
  },
  {
   "cell_type": "code",
   "execution_count": 358,
   "metadata": {},
   "outputs": [],
   "source": [
    "# constraints\n",
    "ineq_cons = ([{'type':'ineq','fun': lambda i : maximise_yield_constraint1(X,i)} for i in range(J.size)] +\n",
    "            [{'type':'ineq','fun': lambda i : constraint2(X,i)} for i in range(S)] +\n",
    "            [{'type':'ineq','fun': lambda i : constraint1(X,i)} for i in range(S)] + \n",
    "             [{'type':'eq','fun': constraint3}])\n",
    "\n",
    "# bonds \n",
    "bond = (0, 1.0)\n",
    "ineq_bond = [(None,None)] + [(0,1.0) for i in range(X.size-1)] # x1 >= 0, x2 >= 0, ...\n"
   ]
  },
  {
   "cell_type": "code",
   "execution_count": null,
   "metadata": {},
   "outputs": [],
   "source": []
  }
 ],
 "metadata": {
  "kernelspec": {
   "display_name": "Python 3",
   "language": "python",
   "name": "python3"
  },
  "language_info": {
   "codemirror_mode": {
    "name": "ipython",
    "version": 3
   },
   "file_extension": ".py",
   "mimetype": "text/x-python",
   "name": "python",
   "nbconvert_exporter": "python",
   "pygments_lexer": "ipython3",
   "version": "3.7.1"
  }
 },
 "nbformat": 4,
 "nbformat_minor": 2
}
